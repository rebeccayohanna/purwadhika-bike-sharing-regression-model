{
 "cells": [
  {
   "cell_type": "markdown",
   "id": "5cc423fe",
   "metadata": {},
   "source": [
    "**Capstone Project Module 3**\n",
    "\n",
    "**Nama : Yohanna Inawati Santoso**\n",
    "\n",
    "**Dataset : Bike Sharing**"
   ]
  },
  {
   "cell_type": "markdown",
   "id": "a9e939ad",
   "metadata": {},
   "source": [
    "[Sumber data](https://drive.google.com/drive/folders/1Qk9VJXpVlYnZofzRmH5z15Kpi-5M8KOv) \n",
    "\n",
    "### **Contents**\n",
    "\n",
    "1. Business Problem Understanding\n",
    "2. Data Understanding\n",
    "3. Data Preprocessing (Data Cleaning, Feature Selection, Feature Engineering)\n",
    "4. Modeling (Algorithm, Evaluation Metrics)\n",
    "5. Conclusion\n",
    "6. Recommendation / Improvement\n",
    "\n",
    "****"
   ]
  },
  {
   "cell_type": "markdown",
   "id": "19274e3f",
   "metadata": {},
   "source": [
    "## **Business Problem Understanding**"
   ]
  },
  {
   "cell_type": "markdown",
   "id": "2d4b4fa8",
   "metadata": {},
   "source": [
    "**Context**"
   ]
  },
  {
   "cell_type": "markdown",
   "id": "d9ea7547",
   "metadata": {},
   "source": [
    "Bike sharing merupakan sistem persewaan sepeda dimana sepeda dapat disewa baik oleh penyewa yang telah menjadi member maupun yang belum menjadi member. Pada beberapa sistem Bike sharing, penyewa dapat menyewa sebuah sepeda dari satu lokasi station, dan mengembalikannya pada station lain yang lokasinya berbeda namun masih dalam satu sistem.\n",
    "\n",
    "Data yang digunakan dalam project ini adalah data kondisi cuaca, musim, tanggal dan jam, serta total penyewa. Dari data tersebut, dapat dipelajari dan dianalisis keterkaitan antar fitur, sehingga dapat diperoleh metode untuk memprediksi perkiraan sepeda yang diperlukan pada waktu dengan kondisi tertentu."
   ]
  },
  {
   "cell_type": "markdown",
   "id": "35ba3a4a",
   "metadata": {},
   "source": [
    "**Problem Statement**"
   ]
  },
  {
   "cell_type": "markdown",
   "id": "4d7873a9",
   "metadata": {},
   "source": [
    "Dari dataset tersebut, dapat dilihat bahwa terdapat tantangan bagi perusahaan penyedia layanan Bike sharing yaitu berapa banyak unit sepeda yang perlu disiapkan pada waktu tertentu."
   ]
  },
  {
   "cell_type": "markdown",
   "id": "09926781",
   "metadata": {},
   "source": [
    "**Goals**"
   ]
  },
  {
   "cell_type": "markdown",
   "id": "27c4fd7e",
   "metadata": {},
   "source": [
    "Berdasarkan permasalahan tersebut, diperlukan adanya suatu tools yang dapat memprediksi perkiraan penyewa pada waktu dan kondisi tertentu sehingga penyedia layanan Bike sharing dapat menentukan total unit sepeda yang harus dipersiapkan untuk masa mendatang."
   ]
  },
  {
   "cell_type": "markdown",
   "id": "b5504f25",
   "metadata": {},
   "source": [
    "**Analytic Approach**"
   ]
  },
  {
   "cell_type": "markdown",
   "id": "d3471a62",
   "metadata": {},
   "source": [
    "Untuk mencapai tujuan tersebut, pada project ini akan dilakukan proses analisis data untuk dapat menemukan pola dari fitur - fitur yang ada, yang memberikan informasi Bike sharing pada tanggal dan jam tertentu.\n",
    "\n",
    "Selanjutnya, akan dibangun model regresi yang akan membantu penyedia layanan Bike sharing untuk memprediksi perkiraan total penyewa pada waktu tertentu."
   ]
  },
  {
   "cell_type": "markdown",
   "id": "bb3dff03",
   "metadata": {},
   "source": [
    "**Metric Evaluation**"
   ]
  },
  {
   "cell_type": "markdown",
   "id": "fab06fa0",
   "metadata": {},
   "source": [
    "Evaluasi metrik yang akan digunakan adalah MAE, MAPE, dan RMSE. Semakin mendekati nol nilai MAE, MAPE, dan RMSE yang dihasilkan, berarti model semakin akurat dalam memprediksi total penyewa sesuai dengan limitasi fitur yang digunakan.\n",
    "\n",
    "MAE adalah metrik sederhana yang menghitung selisih absolut antara hasil aktual dan hasil prediksi, cocok digunakan jika Y memiliki variance yang kecil, dan terdapat banyak outliers pada residual. \n",
    "\n",
    "MAPE adalah rataan persentase error yang dihasilkan oleh model regresi, cocok digunakan jika ingin mengukur performa model berdasarkan error relative dan dapat digunakan untuk data dengan banyak outliers. \n",
    "\n",
    "RMSE adalah akar dari selisih kuadrat hasil prediksi dan hasil aktual, cocok digunakan jika variance dan rentang nilai target tidak terlalu besar dan memiliki sedikit outliers."
   ]
  },
  {
   "cell_type": "markdown",
   "id": "327498ab",
   "metadata": {},
   "source": [
    "## **Data Understanding**"
   ]
  },
  {
   "cell_type": "markdown",
   "id": "2a1dd622",
   "metadata": {},
   "source": [
    "- Dataset yang akan digunakan merupakan data rental sepeda pada tahun 2011 - 2012.\n",
    "- Setiap baris data merepresentasikan informasi terkait penyewaan sepeda pada jam dan tanggal tertentu.\n",
    "\n",
    "**Attributes Information**\n",
    "\n",
    "| **Attribute** | **Data Type** | **Description** |\n",
    "| --- | --- | --- |\n",
    "| dteday | Object | Date |\n",
    "| hum | Float | Normalized humidity. The values are divided to 100 (max) |\n",
    "| weathersit | Integer | Weather Situation. Details : |\n",
    "| | | 1: Clear, Few clouds, Partly cloudy |\n",
    "| | | 2: Mist + Cloudy, Mist + Broken clouds, Mist + Few clouds, Mist |\n",
    "| | | 3: Light Snow, Light Rain + Thunderstorm + Scattered clouds, Light Rain + Scattered clouds |\n",
    "| | | 4: Heavy Rain + Ice Pallets + Thunderstorm + Mist, Snow + Fog |\n",
    "| holiday | Integer | Whether the day is considered a holiday |\n",
    "| season | Integer | 1 = spring, 2 = summer, 3 = fall, 4 = winter |\n",
    "| atemp | Float | \"Feels like\" temperature in Celsius |\n",
    "| temp | Float | Temperature in Celsius |\n",
    "| hr | Integer | Hour (0 to 23) |\n",
    "| casual | Integer | Number of non-registered user rentals initiated |\n",
    "| registered | Integer | Number of registered user rentals initiated |\n",
    "| cnt | Integer | Number of total rentals (include both casual and registered) |\n",
    "\n",
    "<br>"
   ]
  },
  {
   "cell_type": "code",
   "execution_count": 1,
   "id": "d85da4e0",
   "metadata": {},
   "outputs": [],
   "source": [
    "# Import library yang dibutuhkan untuk eksplorasi dataset\n",
    "import pandas as pd \n",
    "import numpy as np\n",
    "import matplotlib.pyplot as plt\n",
    "import seaborn as sns\n",
    "\n",
    "import warnings\n",
    "warnings.filterwarnings('ignore')"
   ]
  },
  {
   "cell_type": "code",
   "execution_count": 2,
   "id": "4bc75655",
   "metadata": {
    "scrolled": true
   },
   "outputs": [
    {
     "data": {
      "text/html": [
       "<div>\n",
       "<style scoped>\n",
       "    .dataframe tbody tr th:only-of-type {\n",
       "        vertical-align: middle;\n",
       "    }\n",
       "\n",
       "    .dataframe tbody tr th {\n",
       "        vertical-align: top;\n",
       "    }\n",
       "\n",
       "    .dataframe thead th {\n",
       "        text-align: right;\n",
       "    }\n",
       "</style>\n",
       "<table border=\"1\" class=\"dataframe\">\n",
       "  <thead>\n",
       "    <tr style=\"text-align: right;\">\n",
       "      <th></th>\n",
       "      <th>dteday</th>\n",
       "      <th>hum</th>\n",
       "      <th>weathersit</th>\n",
       "      <th>holiday</th>\n",
       "      <th>season</th>\n",
       "      <th>atemp</th>\n",
       "      <th>temp</th>\n",
       "      <th>hr</th>\n",
       "      <th>casual</th>\n",
       "      <th>registered</th>\n",
       "      <th>cnt</th>\n",
       "    </tr>\n",
       "  </thead>\n",
       "  <tbody>\n",
       "    <tr>\n",
       "      <th>0</th>\n",
       "      <td>2011-12-09</td>\n",
       "      <td>0.62</td>\n",
       "      <td>1</td>\n",
       "      <td>0</td>\n",
       "      <td>4</td>\n",
       "      <td>0.3485</td>\n",
       "      <td>0.36</td>\n",
       "      <td>16</td>\n",
       "      <td>24</td>\n",
       "      <td>226</td>\n",
       "      <td>250</td>\n",
       "    </tr>\n",
       "    <tr>\n",
       "      <th>1</th>\n",
       "      <td>2012-06-17</td>\n",
       "      <td>0.64</td>\n",
       "      <td>1</td>\n",
       "      <td>0</td>\n",
       "      <td>2</td>\n",
       "      <td>0.5152</td>\n",
       "      <td>0.54</td>\n",
       "      <td>4</td>\n",
       "      <td>2</td>\n",
       "      <td>16</td>\n",
       "      <td>18</td>\n",
       "    </tr>\n",
       "    <tr>\n",
       "      <th>2</th>\n",
       "      <td>2011-06-15</td>\n",
       "      <td>0.53</td>\n",
       "      <td>1</td>\n",
       "      <td>0</td>\n",
       "      <td>2</td>\n",
       "      <td>0.6212</td>\n",
       "      <td>0.62</td>\n",
       "      <td>23</td>\n",
       "      <td>17</td>\n",
       "      <td>90</td>\n",
       "      <td>107</td>\n",
       "    </tr>\n",
       "    <tr>\n",
       "      <th>3</th>\n",
       "      <td>2012-03-31</td>\n",
       "      <td>0.87</td>\n",
       "      <td>2</td>\n",
       "      <td>0</td>\n",
       "      <td>2</td>\n",
       "      <td>0.3485</td>\n",
       "      <td>0.36</td>\n",
       "      <td>8</td>\n",
       "      <td>19</td>\n",
       "      <td>126</td>\n",
       "      <td>145</td>\n",
       "    </tr>\n",
       "    <tr>\n",
       "      <th>4</th>\n",
       "      <td>2012-07-31</td>\n",
       "      <td>0.55</td>\n",
       "      <td>1</td>\n",
       "      <td>0</td>\n",
       "      <td>3</td>\n",
       "      <td>0.6970</td>\n",
       "      <td>0.76</td>\n",
       "      <td>18</td>\n",
       "      <td>99</td>\n",
       "      <td>758</td>\n",
       "      <td>857</td>\n",
       "    </tr>\n",
       "  </tbody>\n",
       "</table>\n",
       "</div>"
      ],
      "text/plain": [
       "       dteday   hum  weathersit  holiday  season   atemp  temp  hr  casual  \\\n",
       "0  2011-12-09  0.62           1        0       4  0.3485  0.36  16      24   \n",
       "1  2012-06-17  0.64           1        0       2  0.5152  0.54   4       2   \n",
       "2  2011-06-15  0.53           1        0       2  0.6212  0.62  23      17   \n",
       "3  2012-03-31  0.87           2        0       2  0.3485  0.36   8      19   \n",
       "4  2012-07-31  0.55           1        0       3  0.6970  0.76  18      99   \n",
       "\n",
       "   registered  cnt  \n",
       "0         226  250  \n",
       "1          16   18  \n",
       "2          90  107  \n",
       "3         126  145  \n",
       "4         758  857  "
      ]
     },
     "execution_count": 2,
     "metadata": {},
     "output_type": "execute_result"
    }
   ],
   "source": [
    "# Load dataset\n",
    "df = pd.read_csv('data_bike_sharing.csv')\n",
    "df.head()"
   ]
  },
  {
   "cell_type": "markdown",
   "id": "1cd1b871",
   "metadata": {},
   "source": [
    "**Exploratory Data Analysis**"
   ]
  },
  {
   "cell_type": "code",
   "execution_count": 3,
   "id": "2dc6ea86",
   "metadata": {},
   "outputs": [
    {
     "name": "stdout",
     "output_type": "stream",
     "text": [
      "<class 'pandas.core.frame.DataFrame'>\n",
      "RangeIndex: 12165 entries, 0 to 12164\n",
      "Data columns (total 11 columns):\n",
      " #   Column      Non-Null Count  Dtype  \n",
      "---  ------      --------------  -----  \n",
      " 0   dteday      12165 non-null  object \n",
      " 1   hum         12165 non-null  float64\n",
      " 2   weathersit  12165 non-null  int64  \n",
      " 3   holiday     12165 non-null  int64  \n",
      " 4   season      12165 non-null  int64  \n",
      " 5   atemp       12165 non-null  float64\n",
      " 6   temp        12165 non-null  float64\n",
      " 7   hr          12165 non-null  int64  \n",
      " 8   casual      12165 non-null  int64  \n",
      " 9   registered  12165 non-null  int64  \n",
      " 10  cnt         12165 non-null  int64  \n",
      "dtypes: float64(3), int64(7), object(1)\n",
      "memory usage: 1.0+ MB\n"
     ]
    }
   ],
   "source": [
    "df.info()"
   ]
  },
  {
   "cell_type": "code",
   "execution_count": 4,
   "id": "4980416a",
   "metadata": {},
   "outputs": [
    {
     "data": {
      "image/png": "[encoded data removed]",
      "text/plain": [
       "<Figure size 1296x720 with 4 Axes>"
      ]
     },
     "metadata": {
      "needs_background": "light"
     },
     "output_type": "display_data"
    }
   ],
   "source": [
    "plt.figure(figsize = (18,10))\n",
    "plt.subplot(2,2,1)\n",
    "ax = sns.countplot(df['holiday'])\n",
    "ax.bar_label(ax.containers[0])\n",
    "plt.title('Total Rent on Holiday', size = 12)\n",
    "\n",
    "plt.subplot(2,2,2)\n",
    "ax = sns.countplot(df['season'])\n",
    "ax.bar_label(ax.containers[0])\n",
    "plt.title('Total Rent per Season', size = 12)\n",
    "\n",
    "plt.subplot(2,2,3)\n",
    "ax = sns.countplot(df['weathersit'])\n",
    "ax.bar_label(ax.containers[0])\n",
    "plt.title('Total Rent on WeatherSit', size = 12)\n",
    "\n",
    "plt.subplot(2,2,4)\n",
    "sns.lineplot(data=df, x='hr', y='cnt', marker='o')\n",
    "plt.title('Total Rents per Hour', size = 12)\n",
    "\n",
    "plt.show()"
   ]
  },
  {
   "cell_type": "markdown",
   "id": "91019c3c",
   "metadata": {},
   "source": [
    "Dari 12165 data, terdapat 11803 data yang diperoleh pada hari kerja dan 362 data pada hari libur.\n",
    "Total persewaan tertinggi terdapat pada season fall, diikuti summer, spring dan winter.\n",
    "Sepeda banyak disewa saat kondisi cuaca cerah hingga berawan, namun sangat sedikit yang menyewa saat cuaca hujan deras, bersalju, badai, dan berkabut.\n",
    "Jam efektif persewaan adalah pada jam 6 hingga 23. Persewaan sering terjadi pada jam 8, 16, 17, 18, 19."
   ]
  },
  {
   "cell_type": "code",
   "execution_count": 5,
   "id": "97842ef7",
   "metadata": {},
   "outputs": [
    {
     "data": {
      "image/png": "[encoded data removed]",
      "text/plain": [
       "<Figure size 1296x504 with 10 Axes>"
      ]
     },
     "metadata": {
      "needs_background": "light"
     },
     "output_type": "display_data"
    }
   ],
   "source": [
    "# Histogram data numeric\n",
    "\n",
    "numerical = ['hum', 'atemp', 'temp', 'weathersit', 'season']\n",
    "df[numerical].hist(bins=15, figsize=(18, 7), layout=(2, 5));"
   ]
  },
  {
   "cell_type": "code",
   "execution_count": 6,
   "id": "42521646",
   "metadata": {},
   "outputs": [
    {
     "data": {
      "image/png": "[encoded data removed]",
      "text/plain": [
       "<Figure size 432x288 with 2 Axes>"
      ]
     },
     "metadata": {
      "needs_background": "light"
     },
     "output_type": "display_data"
    }
   ],
   "source": [
    "sns.heatmap(df[numerical].corr(), annot=True)\n",
    "plt.show()"
   ]
  },
  {
   "cell_type": "code",
   "execution_count": 7,
   "id": "7f250b4b",
   "metadata": {},
   "outputs": [
    {
     "data": {
      "text/plain": [
       "0.021188721742704496"
      ]
     },
     "execution_count": 7,
     "metadata": {},
     "output_type": "execute_result"
    }
   ],
   "source": [
    "(df['temp']-df['atemp']).mean()"
   ]
  },
  {
   "cell_type": "markdown",
   "id": "c95cc703",
   "metadata": {},
   "source": [
    "Fitur temp dan atemp memiliki korelasi yang sangat tinggi. Keduanya juga merepresentasikan temperatur pada jam tersebut sehingga dapat digunakan salah satunya saja. Humidity juga cukup memiliki korelasi dengan weather situation."
   ]
  },
  {
   "cell_type": "markdown",
   "id": "4d4e2f25",
   "metadata": {},
   "source": [
    "## **Data Preprocessing**"
   ]
  },
  {
   "cell_type": "markdown",
   "id": "69b56f77",
   "metadata": {},
   "source": [
    "Pada tahap data preprocessing, akan dilakukan cleaning data. Dataset yang sudah bersih akan digunakan untuk proses analisis lebih lanjut. Pada tahap ini, akan dilakukan :\n",
    "\n",
    " - Menghapus data duplicate.\n",
    " - Jika terdapat kesalahan tipe data, akan diubah ke tipe yang seharusnya.\n",
    " - Drop fitur yang tidak memiliki relevansi terhadap masalah yang sedang dihadapi.\n",
    " - Add fitur yang kemungkinan memiliki relevansi terhadap masalah yang sedang dihadapi.\n",
    " - Jika terdapat missing value, perlu dilakukan treatment yang sesuai (Drop fitur, imputasi dengan nilai yang sesuai, drop data, etc).\n",
    " - Jika terdapat outlier, perlu dilakukan treatment yang sesuai.\n",
    " \n",
    "Untuk proses data preprocessing dan feature engineering, akan digunakan dataframe duplikasi dari dataframe yang sebelumnya digunakan."
   ]
  },
  {
   "cell_type": "code",
   "execution_count": 8,
   "id": "03bee549",
   "metadata": {},
   "outputs": [],
   "source": [
    "# Membuat duplikasi dataframe\n",
    "df_model = df.copy()"
   ]
  },
  {
   "cell_type": "markdown",
   "id": "0c5c5b2c",
   "metadata": {},
   "source": [
    "**Add Feature**"
   ]
  },
  {
   "cell_type": "code",
   "execution_count": 9,
   "id": "fc58904c",
   "metadata": {},
   "outputs": [],
   "source": [
    "# Menambahkan month, year, dayname dari fitur dteday\n",
    "month=[]\n",
    "year=[]\n",
    "dayname=[]\n",
    "df_model['month'] = pd.to_datetime(df_model['dteday']).dt.month\n",
    "df_model['year'] = pd.to_datetime(df_model['dteday']).dt.year\n",
    "df_model['dayname'] = pd.to_datetime(df_model['dteday']).dt.day_of_week"
   ]
  },
  {
   "cell_type": "code",
   "execution_count": 10,
   "id": "98fabb76",
   "metadata": {},
   "outputs": [
    {
     "data": {
      "text/html": [
       "<div>\n",
       "<style scoped>\n",
       "    .dataframe tbody tr th:only-of-type {\n",
       "        vertical-align: middle;\n",
       "    }\n",
       "\n",
       "    .dataframe tbody tr th {\n",
       "        vertical-align: top;\n",
       "    }\n",
       "\n",
       "    .dataframe thead th {\n",
       "        text-align: right;\n",
       "    }\n",
       "</style>\n",
       "<table border=\"1\" class=\"dataframe\">\n",
       "  <thead>\n",
       "    <tr style=\"text-align: right;\">\n",
       "      <th></th>\n",
       "      <th>dataFeatures</th>\n",
       "      <th>dataType</th>\n",
       "      <th>null</th>\n",
       "      <th>nullPct</th>\n",
       "      <th>unique</th>\n",
       "      <th>uniqueSample</th>\n",
       "    </tr>\n",
       "  </thead>\n",
       "  <tbody>\n",
       "    <tr>\n",
       "      <th>0</th>\n",
       "      <td>dteday</td>\n",
       "      <td>object</td>\n",
       "      <td>0</td>\n",
       "      <td>0.0</td>\n",
       "      <td>731</td>\n",
       "      <td>[2012-04-16, 2012-05-12]</td>\n",
       "    </tr>\n",
       "    <tr>\n",
       "      <th>1</th>\n",
       "      <td>hum</td>\n",
       "      <td>float64</td>\n",
       "      <td>0</td>\n",
       "      <td>0.0</td>\n",
       "      <td>89</td>\n",
       "      <td>[0.49, 0.68]</td>\n",
       "    </tr>\n",
       "    <tr>\n",
       "      <th>2</th>\n",
       "      <td>weathersit</td>\n",
       "      <td>int64</td>\n",
       "      <td>0</td>\n",
       "      <td>0.0</td>\n",
       "      <td>4</td>\n",
       "      <td>[2, 1]</td>\n",
       "    </tr>\n",
       "    <tr>\n",
       "      <th>3</th>\n",
       "      <td>holiday</td>\n",
       "      <td>int64</td>\n",
       "      <td>0</td>\n",
       "      <td>0.0</td>\n",
       "      <td>2</td>\n",
       "      <td>[0, 1]</td>\n",
       "    </tr>\n",
       "    <tr>\n",
       "      <th>4</th>\n",
       "      <td>season</td>\n",
       "      <td>int64</td>\n",
       "      <td>0</td>\n",
       "      <td>0.0</td>\n",
       "      <td>4</td>\n",
       "      <td>[4, 1]</td>\n",
       "    </tr>\n",
       "    <tr>\n",
       "      <th>5</th>\n",
       "      <td>atemp</td>\n",
       "      <td>float64</td>\n",
       "      <td>0</td>\n",
       "      <td>0.0</td>\n",
       "      <td>65</td>\n",
       "      <td>[0.1515, 0.4697]</td>\n",
       "    </tr>\n",
       "    <tr>\n",
       "      <th>6</th>\n",
       "      <td>temp</td>\n",
       "      <td>float64</td>\n",
       "      <td>0</td>\n",
       "      <td>0.0</td>\n",
       "      <td>50</td>\n",
       "      <td>[0.58, 0.92]</td>\n",
       "    </tr>\n",
       "    <tr>\n",
       "      <th>7</th>\n",
       "      <td>hr</td>\n",
       "      <td>int64</td>\n",
       "      <td>0</td>\n",
       "      <td>0.0</td>\n",
       "      <td>24</td>\n",
       "      <td>[6, 7]</td>\n",
       "    </tr>\n",
       "    <tr>\n",
       "      <th>8</th>\n",
       "      <td>casual</td>\n",
       "      <td>int64</td>\n",
       "      <td>0</td>\n",
       "      <td>0.0</td>\n",
       "      <td>305</td>\n",
       "      <td>[270, 165]</td>\n",
       "    </tr>\n",
       "    <tr>\n",
       "      <th>9</th>\n",
       "      <td>registered</td>\n",
       "      <td>int64</td>\n",
       "      <td>0</td>\n",
       "      <td>0.0</td>\n",
       "      <td>742</td>\n",
       "      <td>[65, 597]</td>\n",
       "    </tr>\n",
       "    <tr>\n",
       "      <th>10</th>\n",
       "      <td>cnt</td>\n",
       "      <td>int64</td>\n",
       "      <td>0</td>\n",
       "      <td>0.0</td>\n",
       "      <td>830</td>\n",
       "      <td>[405, 12]</td>\n",
       "    </tr>\n",
       "    <tr>\n",
       "      <th>11</th>\n",
       "      <td>month</td>\n",
       "      <td>int64</td>\n",
       "      <td>0</td>\n",
       "      <td>0.0</td>\n",
       "      <td>12</td>\n",
       "      <td>[12, 10]</td>\n",
       "    </tr>\n",
       "    <tr>\n",
       "      <th>12</th>\n",
       "      <td>year</td>\n",
       "      <td>int64</td>\n",
       "      <td>0</td>\n",
       "      <td>0.0</td>\n",
       "      <td>2</td>\n",
       "      <td>[2012, 2011]</td>\n",
       "    </tr>\n",
       "    <tr>\n",
       "      <th>13</th>\n",
       "      <td>dayname</td>\n",
       "      <td>int64</td>\n",
       "      <td>0</td>\n",
       "      <td>0.0</td>\n",
       "      <td>7</td>\n",
       "      <td>[2, 5]</td>\n",
       "    </tr>\n",
       "  </tbody>\n",
       "</table>\n",
       "</div>"
      ],
      "text/plain": [
       "   dataFeatures dataType  null  nullPct  unique              uniqueSample\n",
       "0        dteday   object     0      0.0     731  [2012-04-16, 2012-05-12]\n",
       "1           hum  float64     0      0.0      89              [0.49, 0.68]\n",
       "2    weathersit    int64     0      0.0       4                    [2, 1]\n",
       "3       holiday    int64     0      0.0       2                    [0, 1]\n",
       "4        season    int64     0      0.0       4                    [4, 1]\n",
       "5         atemp  float64     0      0.0      65          [0.1515, 0.4697]\n",
       "6          temp  float64     0      0.0      50              [0.58, 0.92]\n",
       "7            hr    int64     0      0.0      24                    [6, 7]\n",
       "8        casual    int64     0      0.0     305                [270, 165]\n",
       "9    registered    int64     0      0.0     742                 [65, 597]\n",
       "10          cnt    int64     0      0.0     830                 [405, 12]\n",
       "11        month    int64     0      0.0      12                  [12, 10]\n",
       "12         year    int64     0      0.0       2              [2012, 2011]\n",
       "13      dayname    int64     0      0.0       7                    [2, 5]"
      ]
     },
     "execution_count": 10,
     "metadata": {},
     "output_type": "execute_result"
    }
   ],
   "source": [
    "# Cek info lebih detail untuk setiap fitur\n",
    "listItem = []\n",
    "\n",
    "for col in df_model.columns:\n",
    "    listItem.append([\n",
    "        col, \n",
    "        df_model[col].dtype, \n",
    "        df_model[col].isna().sum(), \n",
    "        round((df_model[col].isna().sum()/len(df_model[col]))*100, 2),\n",
    "        df_model[col].nunique(), \n",
    "        list(df_model[col].drop_duplicates().sample(2).values)\n",
    "    ]);\n",
    "\n",
    "df_model_desc = pd.DataFrame(columns=['dataFeatures', 'dataType', 'null', 'nullPct', 'unique', 'uniqueSample'],\n",
    "                     data=listItem)\n",
    "df_model_desc"
   ]
  },
  {
   "cell_type": "code",
   "execution_count": 11,
   "id": "4863c839",
   "metadata": {},
   "outputs": [],
   "source": [
    "# df_model"
   ]
  },
  {
   "cell_type": "markdown",
   "id": "5081d492",
   "metadata": {},
   "source": [
    "**Data Duplicate**"
   ]
  },
  {
   "cell_type": "code",
   "execution_count": 12,
   "id": "54730fed",
   "metadata": {},
   "outputs": [
    {
     "data": {
      "text/plain": [
       "0"
      ]
     },
     "execution_count": 12,
     "metadata": {},
     "output_type": "execute_result"
    }
   ],
   "source": [
    "# Cek data duplikat\n",
    "df_model.duplicated().sum()"
   ]
  },
  {
   "cell_type": "markdown",
   "id": "302f432f",
   "metadata": {},
   "source": [
    "**Drop Fitur & Data**"
   ]
  },
  {
   "cell_type": "markdown",
   "id": "312fd444",
   "metadata": {},
   "source": [
    "Tentu perlu ada pertimbangan sebelum melakukan drop pada kolom atau fitur. Berikut ini adalah fitur yang akan di drop beserta pertimbangannya.\n",
    "\n",
    " - Fitur 'casual' dan 'registered' tidak diperlukan dalam analisis kali ini, karena tujuannya berfokus pada total seluruh persewaan.\n",
    " - Fitur 'atemp' akan dihapus karena terdapat fitur 'temp'. Keduanya merepresentasikan temperatur dengan korelasi yang tinggi.\n",
    " - Fitur 'dteday' akan dihapus karena telah dibuat fitur month, year, dan dayname dari fitur tersebut."
   ]
  },
  {
   "cell_type": "code",
   "execution_count": 13,
   "id": "e3583112",
   "metadata": {},
   "outputs": [],
   "source": [
    "df_model.drop(['casual', 'registered', 'atemp', 'dteday'], axis=1, inplace=True)"
   ]
  },
  {
   "cell_type": "code",
   "execution_count": 14,
   "id": "7cf3ed7f",
   "metadata": {},
   "outputs": [],
   "source": [
    "# df_model.drop(df_model.loc[df_model['weathersit'] == 4].index, inplace=True)"
   ]
  },
  {
   "cell_type": "markdown",
   "id": "a26791cc",
   "metadata": {},
   "source": [
    "**Tipe Data**"
   ]
  },
  {
   "cell_type": "code",
   "execution_count": 15,
   "id": "832172b8",
   "metadata": {},
   "outputs": [],
   "source": [
    "df_model = df_model.astype({\"weathersit\":'category', \"season\":'category', \"holiday\":'category'})"
   ]
  },
  {
   "cell_type": "markdown",
   "id": "7fdf66a5",
   "metadata": {},
   "source": [
    "**Rename Columns**"
   ]
  },
  {
   "cell_type": "code",
   "execution_count": 16,
   "id": "aeb2845c",
   "metadata": {},
   "outputs": [],
   "source": [
    "df_model.rename({\n",
    "    'hum' : 'Humidity',\n",
    "    'weathersit' : 'Weather',\n",
    "    'season' : 'Season',\n",
    "    'temp' : 'Temperature',\n",
    "    'hr' : 'Hour',\n",
    "    'cnt' : 'Count',\n",
    "    'month' : 'Month',\n",
    "    'year' : 'Year',\n",
    "    'dayname' : 'Day Name',\n",
    "    'holiday' : 'Holiday'\n",
    "} , inplace = True , axis = 1)"
   ]
  },
  {
   "cell_type": "code",
   "execution_count": 17,
   "id": "9d42cfd4",
   "metadata": {},
   "outputs": [
    {
     "data": {
      "text/html": [
       "<div>\n",
       "<style scoped>\n",
       "    .dataframe tbody tr th:only-of-type {\n",
       "        vertical-align: middle;\n",
       "    }\n",
       "\n",
       "    .dataframe tbody tr th {\n",
       "        vertical-align: top;\n",
       "    }\n",
       "\n",
       "    .dataframe thead th {\n",
       "        text-align: right;\n",
       "    }\n",
       "</style>\n",
       "<table border=\"1\" class=\"dataframe\">\n",
       "  <thead>\n",
       "    <tr style=\"text-align: right;\">\n",
       "      <th></th>\n",
       "      <th>Humidity</th>\n",
       "      <th>Weather</th>\n",
       "      <th>Holiday</th>\n",
       "      <th>Season</th>\n",
       "      <th>Temperature</th>\n",
       "      <th>Hour</th>\n",
       "      <th>Count</th>\n",
       "      <th>Month</th>\n",
       "      <th>Year</th>\n",
       "      <th>Day Name</th>\n",
       "    </tr>\n",
       "  </thead>\n",
       "  <tbody>\n",
       "    <tr>\n",
       "      <th>0</th>\n",
       "      <td>0.62</td>\n",
       "      <td>1</td>\n",
       "      <td>0</td>\n",
       "      <td>4</td>\n",
       "      <td>0.36</td>\n",
       "      <td>16</td>\n",
       "      <td>250</td>\n",
       "      <td>12</td>\n",
       "      <td>2011</td>\n",
       "      <td>4</td>\n",
       "    </tr>\n",
       "    <tr>\n",
       "      <th>1</th>\n",
       "      <td>0.64</td>\n",
       "      <td>1</td>\n",
       "      <td>0</td>\n",
       "      <td>2</td>\n",
       "      <td>0.54</td>\n",
       "      <td>4</td>\n",
       "      <td>18</td>\n",
       "      <td>6</td>\n",
       "      <td>2012</td>\n",
       "      <td>6</td>\n",
       "    </tr>\n",
       "    <tr>\n",
       "      <th>2</th>\n",
       "      <td>0.53</td>\n",
       "      <td>1</td>\n",
       "      <td>0</td>\n",
       "      <td>2</td>\n",
       "      <td>0.62</td>\n",
       "      <td>23</td>\n",
       "      <td>107</td>\n",
       "      <td>6</td>\n",
       "      <td>2011</td>\n",
       "      <td>2</td>\n",
       "    </tr>\n",
       "    <tr>\n",
       "      <th>3</th>\n",
       "      <td>0.87</td>\n",
       "      <td>2</td>\n",
       "      <td>0</td>\n",
       "      <td>2</td>\n",
       "      <td>0.36</td>\n",
       "      <td>8</td>\n",
       "      <td>145</td>\n",
       "      <td>3</td>\n",
       "      <td>2012</td>\n",
       "      <td>5</td>\n",
       "    </tr>\n",
       "    <tr>\n",
       "      <th>4</th>\n",
       "      <td>0.55</td>\n",
       "      <td>1</td>\n",
       "      <td>0</td>\n",
       "      <td>3</td>\n",
       "      <td>0.76</td>\n",
       "      <td>18</td>\n",
       "      <td>857</td>\n",
       "      <td>7</td>\n",
       "      <td>2012</td>\n",
       "      <td>1</td>\n",
       "    </tr>\n",
       "  </tbody>\n",
       "</table>\n",
       "</div>"
      ],
      "text/plain": [
       "   Humidity Weather Holiday Season  Temperature  Hour  Count  Month  Year  \\\n",
       "0      0.62       1       0      4         0.36    16    250     12  2011   \n",
       "1      0.64       1       0      2         0.54     4     18      6  2012   \n",
       "2      0.53       1       0      2         0.62    23    107      6  2011   \n",
       "3      0.87       2       0      2         0.36     8    145      3  2012   \n",
       "4      0.55       1       0      3         0.76    18    857      7  2012   \n",
       "\n",
       "   Day Name  \n",
       "0         4  \n",
       "1         6  \n",
       "2         2  \n",
       "3         5  \n",
       "4         1  "
      ]
     },
     "execution_count": 17,
     "metadata": {},
     "output_type": "execute_result"
    }
   ],
   "source": [
    "df_model.head()"
   ]
  },
  {
   "cell_type": "markdown",
   "id": "cace3439",
   "metadata": {},
   "source": [
    "Selanjutnya, kita juga perlu mengecek apakah terdapat nilai-nilai yang dirasa tidak masuk akal pada setiap fiturnya, misal ada nilai yang kurang dari 0. Kita bisa mengeceknya melalui statistika deskriptif untuk tiap numerikal fitur."
   ]
  },
  {
   "cell_type": "code",
   "execution_count": 18,
   "id": "d7152c5b",
   "metadata": {},
   "outputs": [
    {
     "data": {
      "text/html": [
       "<div>\n",
       "<style scoped>\n",
       "    .dataframe tbody tr th:only-of-type {\n",
       "        vertical-align: middle;\n",
       "    }\n",
       "\n",
       "    .dataframe tbody tr th {\n",
       "        vertical-align: top;\n",
       "    }\n",
       "\n",
       "    .dataframe thead th {\n",
       "        text-align: right;\n",
       "    }\n",
       "</style>\n",
       "<table border=\"1\" class=\"dataframe\">\n",
       "  <thead>\n",
       "    <tr style=\"text-align: right;\">\n",
       "      <th></th>\n",
       "      <th>Humidity</th>\n",
       "      <th>Temperature</th>\n",
       "      <th>Hour</th>\n",
       "      <th>Count</th>\n",
       "      <th>Month</th>\n",
       "      <th>Year</th>\n",
       "      <th>Day Name</th>\n",
       "    </tr>\n",
       "  </thead>\n",
       "  <tbody>\n",
       "    <tr>\n",
       "      <th>count</th>\n",
       "      <td>12165.000000</td>\n",
       "      <td>12165.000000</td>\n",
       "      <td>12165.000000</td>\n",
       "      <td>12165.000000</td>\n",
       "      <td>12165.000000</td>\n",
       "      <td>12165.000000</td>\n",
       "      <td>12165.000000</td>\n",
       "    </tr>\n",
       "    <tr>\n",
       "      <th>mean</th>\n",
       "      <td>0.625451</td>\n",
       "      <td>0.498185</td>\n",
       "      <td>11.519770</td>\n",
       "      <td>189.271023</td>\n",
       "      <td>6.510974</td>\n",
       "      <td>2011.501932</td>\n",
       "      <td>3.005261</td>\n",
       "    </tr>\n",
       "    <tr>\n",
       "      <th>std</th>\n",
       "      <td>0.192102</td>\n",
       "      <td>0.192492</td>\n",
       "      <td>6.931872</td>\n",
       "      <td>181.223903</td>\n",
       "      <td>3.433995</td>\n",
       "      <td>0.500017</td>\n",
       "      <td>1.992993</td>\n",
       "    </tr>\n",
       "    <tr>\n",
       "      <th>min</th>\n",
       "      <td>0.000000</td>\n",
       "      <td>0.020000</td>\n",
       "      <td>0.000000</td>\n",
       "      <td>1.000000</td>\n",
       "      <td>1.000000</td>\n",
       "      <td>2011.000000</td>\n",
       "      <td>0.000000</td>\n",
       "    </tr>\n",
       "    <tr>\n",
       "      <th>25%</th>\n",
       "      <td>0.470000</td>\n",
       "      <td>0.340000</td>\n",
       "      <td>6.000000</td>\n",
       "      <td>40.000000</td>\n",
       "      <td>4.000000</td>\n",
       "      <td>2011.000000</td>\n",
       "      <td>1.000000</td>\n",
       "    </tr>\n",
       "    <tr>\n",
       "      <th>50%</th>\n",
       "      <td>0.620000</td>\n",
       "      <td>0.500000</td>\n",
       "      <td>12.000000</td>\n",
       "      <td>142.000000</td>\n",
       "      <td>7.000000</td>\n",
       "      <td>2012.000000</td>\n",
       "      <td>3.000000</td>\n",
       "    </tr>\n",
       "    <tr>\n",
       "      <th>75%</th>\n",
       "      <td>0.780000</td>\n",
       "      <td>0.660000</td>\n",
       "      <td>18.000000</td>\n",
       "      <td>282.000000</td>\n",
       "      <td>9.000000</td>\n",
       "      <td>2012.000000</td>\n",
       "      <td>5.000000</td>\n",
       "    </tr>\n",
       "    <tr>\n",
       "      <th>max</th>\n",
       "      <td>1.000000</td>\n",
       "      <td>1.000000</td>\n",
       "      <td>23.000000</td>\n",
       "      <td>970.000000</td>\n",
       "      <td>12.000000</td>\n",
       "      <td>2012.000000</td>\n",
       "      <td>6.000000</td>\n",
       "    </tr>\n",
       "  </tbody>\n",
       "</table>\n",
       "</div>"
      ],
      "text/plain": [
       "           Humidity   Temperature          Hour         Count         Month  \\\n",
       "count  12165.000000  12165.000000  12165.000000  12165.000000  12165.000000   \n",
       "mean       0.625451      0.498185     11.519770    189.271023      6.510974   \n",
       "std        0.192102      0.192492      6.931872    181.223903      3.433995   \n",
       "min        0.000000      0.020000      0.000000      1.000000      1.000000   \n",
       "25%        0.470000      0.340000      6.000000     40.000000      4.000000   \n",
       "50%        0.620000      0.500000     12.000000    142.000000      7.000000   \n",
       "75%        0.780000      0.660000     18.000000    282.000000      9.000000   \n",
       "max        1.000000      1.000000     23.000000    970.000000     12.000000   \n",
       "\n",
       "               Year      Day Name  \n",
       "count  12165.000000  12165.000000  \n",
       "mean    2011.501932      3.005261  \n",
       "std        0.500017      1.992993  \n",
       "min     2011.000000      0.000000  \n",
       "25%     2011.000000      1.000000  \n",
       "50%     2012.000000      3.000000  \n",
       "75%     2012.000000      5.000000  \n",
       "max     2012.000000      6.000000  "
      ]
     },
     "execution_count": 18,
     "metadata": {},
     "output_type": "execute_result"
    }
   ],
   "source": [
    "# Cek deskriptif statistik fitur numerikal\n",
    "num_features = [feature for feature in df_model.columns if ((df_model[feature].dtypes != 'object'))]\n",
    "df_model[num_features].describe()"
   ]
  },
  {
   "cell_type": "markdown",
   "id": "be1c5249",
   "metadata": {},
   "source": [
    "**Correlation Matrix**"
   ]
  },
  {
   "cell_type": "code",
   "execution_count": 19,
   "id": "771734bb",
   "metadata": {},
   "outputs": [
    {
     "data": {
      "image/png": "[encoded data removed]",
      "text/plain": [
       "<Figure size 936x720 with 2 Axes>"
      ]
     },
     "metadata": {
      "needs_background": "light"
     },
     "output_type": "display_data"
    }
   ],
   "source": [
    "plt.figure(figsize=(13, 10))\n",
    "sns.heatmap(df_model[num_features].corr(), annot=True, cmap=\"YlGnBu\")\n",
    "plt.title('Correlation Matrix', size=15, weight='bold');\n",
    "plt.show()"
   ]
  },
  {
   "cell_type": "markdown",
   "id": "65f365ac",
   "metadata": {},
   "source": [
    "Correlation matrix menunjukkan bahwa tidak ada fitur yang memiliki korelasi yang kuat terhadap fitur Count. Korelasi paling tinggi dimiliki oleh fitur 'Temperature' dan 'Hour, di mana korelasinya adalah korelasi positif. Ini berarti semakin ke besar temperature dan hour, maka jumlah persewaan pun semakin banyak.\n",
    "\n",
    "Selanjutnya, kita akan mengecek distribusi data dan outliers untuk tiap numerikal fitur. Jika distribusinya memiliki skewness yang tinggi, salah satu cara yang dapat kita lakukan untuk menguranginya adalah dengan melakukan rekayasa pada tiap fiturnya."
   ]
  },
  {
   "cell_type": "markdown",
   "id": "6c3bd779",
   "metadata": {},
   "source": [
    "**Outliers Detection**"
   ]
  },
  {
   "cell_type": "markdown",
   "id": "76a1d1b0",
   "metadata": {},
   "source": [
    "Banyaknya outliers pada data tentu akan memengaruhi hasil analisis dan pemodelan yang dilakukan. Ada beberapa hal yang harus dipertimbangkan sebelum memutuskan treatment yang sesuai dengan data, di antaranya adalah dengan mempertimbangkan sisi domain knowledge."
   ]
  },
  {
   "cell_type": "code",
   "execution_count": 20,
   "id": "fb14f827",
   "metadata": {},
   "outputs": [
    {
     "data": {
      "image/png": "[encoded data removed]",
      "text/plain": [
       "<Figure size 432x288 with 1 Axes>"
      ]
     },
     "metadata": {
      "needs_background": "light"
     },
     "output_type": "display_data"
    }
   ],
   "source": [
    "# Plot boxplot untuk mengecek outliers\n",
    "df_model.boxplot(rot=90);"
   ]
  },
  {
   "cell_type": "code",
   "execution_count": 21,
   "id": "7c2f6c17",
   "metadata": {},
   "outputs": [],
   "source": [
    "# Membuat fungsi untuk mengecek outliers\n",
    "def cek_outliers(data):\n",
    "    q1 = data.quantile(0.25)\n",
    "    q3 = data.quantile(0.75)\n",
    "    iqr = q3 - q1\n",
    "    limit = iqr*1.5\n",
    "    print(f'IQR: {iqr}')\n",
    "\n",
    "    limit_bawah = q1 - limit\n",
    "    limit_atas = q3 + limit\n",
    "    print(f'limit_bawah: {limit_bawah}')\n",
    "    print(f'limit_atas: {limit_atas}')        "
   ]
  },
  {
   "cell_type": "code",
   "execution_count": 22,
   "id": "987d87ab",
   "metadata": {},
   "outputs": [
    {
     "name": "stdout",
     "output_type": "stream",
     "text": [
      "IQR: 0.31000000000000005\n",
      "limit_bawah: 0.004999999999999893\n",
      "limit_atas: 1.245\n"
     ]
    }
   ],
   "source": [
    "# Outliers pada fitur humidity\n",
    "cek_outliers(df_model['Humidity'])"
   ]
  },
  {
   "cell_type": "code",
   "execution_count": 23,
   "id": "ccb2f6bf",
   "metadata": {},
   "outputs": [
    {
     "data": {
      "image/png": "[encoded data removed]",
      "text/plain": [
       "<Figure size 432x288 with 1 Axes>"
      ]
     },
     "metadata": {
      "needs_background": "light"
     },
     "output_type": "display_data"
    }
   ],
   "source": [
    "sns.boxplot(df_model['Humidity'])\n",
    "plt.show()"
   ]
  },
  {
   "cell_type": "code",
   "execution_count": 24,
   "id": "c86dc4ef",
   "metadata": {},
   "outputs": [
    {
     "name": "stdout",
     "output_type": "stream",
     "text": [
      "IQR: 0.32\n",
      "limit_bawah: -0.13999999999999996\n",
      "limit_atas: 1.1400000000000001\n"
     ]
    }
   ],
   "source": [
    "# Outliers pada fitur temperature\n",
    "cek_outliers(df_model['Temperature'])"
   ]
  },
  {
   "cell_type": "code",
   "execution_count": 25,
   "id": "2ac79f0e",
   "metadata": {},
   "outputs": [
    {
     "data": {
      "image/png": "[encoded data removed]",
      "text/plain": [
       "<Figure size 432x288 with 1 Axes>"
      ]
     },
     "metadata": {
      "needs_background": "light"
     },
     "output_type": "display_data"
    }
   ],
   "source": [
    "sns.boxplot(df_model['Temperature'])\n",
    "plt.show()"
   ]
  },
  {
   "cell_type": "code",
   "execution_count": 26,
   "id": "45b48f81",
   "metadata": {},
   "outputs": [
    {
     "name": "stdout",
     "output_type": "stream",
     "text": [
      "IQR: 242.0\n",
      "limit_bawah: -323.0\n",
      "limit_atas: 645.0\n"
     ]
    }
   ],
   "source": [
    "# Outliers pada fitur count\n",
    "cek_outliers(df_model['Count'])"
   ]
  },
  {
   "cell_type": "code",
   "execution_count": 27,
   "id": "e00b06f3",
   "metadata": {},
   "outputs": [
    {
     "data": {
      "image/png": "[encoded data removed]",
      "text/plain": [
       "<Figure size 432x288 with 1 Axes>"
      ]
     },
     "metadata": {
      "needs_background": "light"
     },
     "output_type": "display_data"
    }
   ],
   "source": [
    "sns.boxplot(df_model['Count'])\n",
    "plt.show()"
   ]
  },
  {
   "cell_type": "markdown",
   "id": "53bccb5c",
   "metadata": {},
   "source": [
    "Terdapat outliers pada fitur Humidity dan Count. Untuk mengatasinya, akan dihilangkan data outliers tersebut. Nantinya, prediksi dapat dilakukan pada rentang data sesuai dataset yang bersih saja agar hasil prediksi tidak menjadi bias."
   ]
  },
  {
   "cell_type": "markdown",
   "id": "a79307f9",
   "metadata": {},
   "source": [
    "Selanjutnya, kita dapat memulai feature engineering terhadap fitur-fitur numerikal."
   ]
  },
  {
   "cell_type": "markdown",
   "id": "f90fa6c5",
   "metadata": {},
   "source": [
    "**Humidity**"
   ]
  },
  {
   "cell_type": "code",
   "execution_count": 28,
   "id": "74bbe267",
   "metadata": {},
   "outputs": [
    {
     "data": {
      "text/plain": [
       "count    12165.000000\n",
       "mean         0.625451\n",
       "std          0.192102\n",
       "min          0.000000\n",
       "25%          0.470000\n",
       "50%          0.620000\n",
       "75%          0.780000\n",
       "max          1.000000\n",
       "Name: Humidity, dtype: float64"
      ]
     },
     "execution_count": 28,
     "metadata": {},
     "output_type": "execute_result"
    }
   ],
   "source": [
    "# Cek deskriptif statistik kolom humidity\n",
    "df_model['Humidity'].describe()"
   ]
  },
  {
   "cell_type": "code",
   "execution_count": 29,
   "id": "0e864409",
   "metadata": {},
   "outputs": [
    {
     "data": {
      "text/plain": [
       "14"
      ]
     },
     "execution_count": 29,
     "metadata": {},
     "output_type": "execute_result"
    }
   ],
   "source": [
    "# Cek humidity not between 0.004999999999999893 and 1.245\n",
    "df_model[(df_model['Humidity'] > 1.245) | (df_model['Humidity'] < 0.004999999999999893)].count()['Humidity']"
   ]
  },
  {
   "cell_type": "code",
   "execution_count": 30,
   "id": "49e2ea91",
   "metadata": {},
   "outputs": [
    {
     "data": {
      "image/png": "[encoded data removed]",
      "text/plain": [
       "<Figure size 1512x432 with 2 Axes>"
      ]
     },
     "metadata": {
      "needs_background": "light"
     },
     "output_type": "display_data"
    }
   ],
   "source": [
    "# Melakukan filtering pada data\n",
    "df_model = df_model[(df_model['Humidity'] <= 1.245) & (df_model['Humidity'] >= 0.004999999999999893)]\n",
    "\n",
    "# Plot distribusi data sebelum dan sesudah filtering\n",
    "fig, axes = plt.subplots(1,2, figsize=(21, 6))\n",
    "sns.distplot(df['hum'], ax=axes[0])\n",
    "sns.distplot(df_model['Humidity'], ax=axes[1])\n",
    "axes[0].set_xlabel('Price')\n",
    "axes[1].set_xlabel('Range Selected Price');"
   ]
  },
  {
   "cell_type": "code",
   "execution_count": 31,
   "id": "0168b1d9",
   "metadata": {},
   "outputs": [
    {
     "data": {
      "text/plain": [
       "count    12151.000000\n",
       "mean         0.626172\n",
       "std          0.191036\n",
       "min          0.080000\n",
       "25%          0.480000\n",
       "50%          0.620000\n",
       "75%          0.780000\n",
       "max          1.000000\n",
       "Name: Humidity, dtype: float64"
      ]
     },
     "execution_count": 31,
     "metadata": {},
     "output_type": "execute_result"
    }
   ],
   "source": [
    "# Cek deskriptif statistik kolom 'Humidity' setelah filtering\n",
    "df_model['Humidity'].describe()"
   ]
  },
  {
   "cell_type": "markdown",
   "id": "d6bc9a90",
   "metadata": {},
   "source": [
    "**Temperature**"
   ]
  },
  {
   "cell_type": "code",
   "execution_count": 32,
   "id": "f0aa7603",
   "metadata": {},
   "outputs": [
    {
     "data": {
      "text/plain": [
       "count    12151.000000\n",
       "mean         0.498313\n",
       "std          0.192562\n",
       "min          0.020000\n",
       "25%          0.340000\n",
       "50%          0.500000\n",
       "75%          0.660000\n",
       "max          1.000000\n",
       "Name: Temperature, dtype: float64"
      ]
     },
     "execution_count": 32,
     "metadata": {},
     "output_type": "execute_result"
    }
   ],
   "source": [
    "# Cek deskriptif statistik kolom Temperature Feel\n",
    "df_model['Temperature'].describe()"
   ]
  },
  {
   "cell_type": "code",
   "execution_count": 33,
   "id": "0237d4d8",
   "metadata": {},
   "outputs": [
    {
     "data": {
      "text/plain": [
       "0"
      ]
     },
     "execution_count": 33,
     "metadata": {},
     "output_type": "execute_result"
    }
   ],
   "source": [
    "# Cek Temperature Feel not between -0.09854999999999997 and 1.0530499999999998\n",
    "df_model[(df_model['Temperature'] > 1.0530499999999998) | (df_model['Temperature'] < -0.09854999999999997)].count()['Temperature']"
   ]
  },
  {
   "cell_type": "markdown",
   "id": "db5131d9",
   "metadata": {},
   "source": [
    "**Count**"
   ]
  },
  {
   "cell_type": "code",
   "execution_count": 34,
   "id": "a8d6573a",
   "metadata": {},
   "outputs": [
    {
     "data": {
      "text/plain": [
       "count    12151.000000\n",
       "mean       189.457329\n",
       "std        181.242898\n",
       "min          1.000000\n",
       "25%         40.000000\n",
       "50%        142.000000\n",
       "75%        282.000000\n",
       "max        970.000000\n",
       "Name: Count, dtype: float64"
      ]
     },
     "execution_count": 34,
     "metadata": {},
     "output_type": "execute_result"
    }
   ],
   "source": [
    "# Cek deskriptif statistik kolom Count\n",
    "df_model['Count'].describe()"
   ]
  },
  {
   "cell_type": "code",
   "execution_count": 35,
   "id": "6a6dbd72",
   "metadata": {},
   "outputs": [
    {
     "data": {
      "text/plain": [
       "338"
      ]
     },
     "execution_count": 35,
     "metadata": {},
     "output_type": "execute_result"
    }
   ],
   "source": [
    "# Cek Count not between -323.0 and 645.0\n",
    "df_model[(df_model['Count'] > 645.0) | (df_model['Count'] < -323.0)].count()['Count']"
   ]
  },
  {
   "cell_type": "code",
   "execution_count": 36,
   "id": "79e9c046",
   "metadata": {},
   "outputs": [
    {
     "data": {
      "image/png": "[encoded data removed]",
      "text/plain": [
       "<Figure size 1512x432 with 2 Axes>"
      ]
     },
     "metadata": {
      "needs_background": "light"
     },
     "output_type": "display_data"
    }
   ],
   "source": [
    "# # Melakukan filtering pada data\n",
    "df_model = df_model[(df_model['Count'] <= 645.0) & (df_model['Count'] >= -323.0)]\n",
    "\n",
    "# Plot distribusi data sebelum dan sesudah filtering\n",
    "fig, axes = plt.subplots(1,2, figsize=(21, 6))\n",
    "sns.distplot(df['cnt'], ax=axes[0])\n",
    "sns.distplot(df_model['Count'], ax=axes[1])\n",
    "axes[0].set_xlabel('Count')\n",
    "axes[1].set_xlabel('Range Selected Count');"
   ]
  },
  {
   "cell_type": "code",
   "execution_count": 37,
   "id": "12b00c04",
   "metadata": {},
   "outputs": [
    {
     "data": {
      "text/plain": [
       "count    11813.000000\n",
       "mean       173.384238\n",
       "std        155.931763\n",
       "min          1.000000\n",
       "25%         38.000000\n",
       "50%        136.000000\n",
       "75%        267.000000\n",
       "max        645.000000\n",
       "Name: Count, dtype: float64"
      ]
     },
     "execution_count": 37,
     "metadata": {},
     "output_type": "execute_result"
    }
   ],
   "source": [
    "# # Cek deskriptif statistik kolom 'Count' setelah filtering\n",
    "df_model['Count'].describe()"
   ]
  },
  {
   "cell_type": "markdown",
   "id": "216f62a7",
   "metadata": {},
   "source": [
    "**Clean Dataset**"
   ]
  },
  {
   "cell_type": "code",
   "execution_count": 38,
   "id": "1e66fb3e",
   "metadata": {},
   "outputs": [
    {
     "data": {
      "text/html": [
       "<div>\n",
       "<style scoped>\n",
       "    .dataframe tbody tr th:only-of-type {\n",
       "        vertical-align: middle;\n",
       "    }\n",
       "\n",
       "    .dataframe tbody tr th {\n",
       "        vertical-align: top;\n",
       "    }\n",
       "\n",
       "    .dataframe thead th {\n",
       "        text-align: right;\n",
       "    }\n",
       "</style>\n",
       "<table border=\"1\" class=\"dataframe\">\n",
       "  <thead>\n",
       "    <tr style=\"text-align: right;\">\n",
       "      <th></th>\n",
       "      <th>Humidity</th>\n",
       "      <th>Weather</th>\n",
       "      <th>Holiday</th>\n",
       "      <th>Season</th>\n",
       "      <th>Temperature</th>\n",
       "      <th>Hour</th>\n",
       "      <th>Count</th>\n",
       "      <th>Month</th>\n",
       "      <th>Year</th>\n",
       "      <th>Day Name</th>\n",
       "    </tr>\n",
       "  </thead>\n",
       "  <tbody>\n",
       "    <tr>\n",
       "      <th>0</th>\n",
       "      <td>0.62</td>\n",
       "      <td>1</td>\n",
       "      <td>0</td>\n",
       "      <td>4</td>\n",
       "      <td>0.36</td>\n",
       "      <td>16</td>\n",
       "      <td>250</td>\n",
       "      <td>12</td>\n",
       "      <td>2011</td>\n",
       "      <td>4</td>\n",
       "    </tr>\n",
       "    <tr>\n",
       "      <th>1</th>\n",
       "      <td>0.64</td>\n",
       "      <td>1</td>\n",
       "      <td>0</td>\n",
       "      <td>2</td>\n",
       "      <td>0.54</td>\n",
       "      <td>4</td>\n",
       "      <td>18</td>\n",
       "      <td>6</td>\n",
       "      <td>2012</td>\n",
       "      <td>6</td>\n",
       "    </tr>\n",
       "    <tr>\n",
       "      <th>2</th>\n",
       "      <td>0.53</td>\n",
       "      <td>1</td>\n",
       "      <td>0</td>\n",
       "      <td>2</td>\n",
       "      <td>0.62</td>\n",
       "      <td>23</td>\n",
       "      <td>107</td>\n",
       "      <td>6</td>\n",
       "      <td>2011</td>\n",
       "      <td>2</td>\n",
       "    </tr>\n",
       "    <tr>\n",
       "      <th>3</th>\n",
       "      <td>0.87</td>\n",
       "      <td>2</td>\n",
       "      <td>0</td>\n",
       "      <td>2</td>\n",
       "      <td>0.36</td>\n",
       "      <td>8</td>\n",
       "      <td>145</td>\n",
       "      <td>3</td>\n",
       "      <td>2012</td>\n",
       "      <td>5</td>\n",
       "    </tr>\n",
       "    <tr>\n",
       "      <th>5</th>\n",
       "      <td>0.72</td>\n",
       "      <td>1</td>\n",
       "      <td>0</td>\n",
       "      <td>4</td>\n",
       "      <td>0.46</td>\n",
       "      <td>0</td>\n",
       "      <td>45</td>\n",
       "      <td>10</td>\n",
       "      <td>2012</td>\n",
       "      <td>0</td>\n",
       "    </tr>\n",
       "  </tbody>\n",
       "</table>\n",
       "</div>"
      ],
      "text/plain": [
       "   Humidity Weather Holiday Season  Temperature  Hour  Count  Month  Year  \\\n",
       "0      0.62       1       0      4         0.36    16    250     12  2011   \n",
       "1      0.64       1       0      2         0.54     4     18      6  2012   \n",
       "2      0.53       1       0      2         0.62    23    107      6  2011   \n",
       "3      0.87       2       0      2         0.36     8    145      3  2012   \n",
       "5      0.72       1       0      4         0.46     0     45     10  2012   \n",
       "\n",
       "   Day Name  \n",
       "0         4  \n",
       "1         6  \n",
       "2         2  \n",
       "3         5  \n",
       "5         0  "
      ]
     },
     "execution_count": 38,
     "metadata": {},
     "output_type": "execute_result"
    }
   ],
   "source": [
    "df_model.head()"
   ]
  },
  {
   "cell_type": "markdown",
   "id": "e4101b3e",
   "metadata": {},
   "source": [
    "Setelah data dibersihkan, tersisa 11813 data yang akan digunakan untuk pemodelan. Ini berarti 3% data telah dihapus d proses sebelumnya."
   ]
  },
  {
   "cell_type": "markdown",
   "id": "be838918",
   "metadata": {},
   "source": [
    "## **Modeling**"
   ]
  },
  {
   "cell_type": "code",
   "execution_count": 39,
   "id": "4ccfa962",
   "metadata": {},
   "outputs": [],
   "source": [
    "# Import library untuk modeling\n",
    "\n",
    "from sklearn.model_selection import train_test_split, cross_val_score, RandomizedSearchCV, GridSearchCV, KFold\n",
    "\n",
    "import category_encoders as ce\n",
    "from sklearn.preprocessing import OneHotEncoder, OrdinalEncoder\n",
    "from sklearn.compose import ColumnTransformer\n",
    "from sklearn.pipeline import Pipeline\n",
    "\n",
    "from sklearn.linear_model import LinearRegression\n",
    "from sklearn.neighbors import KNeighborsRegressor\n",
    "from sklearn.tree import DecisionTreeRegressor\n",
    "from sklearn.ensemble import RandomForestRegressor\n",
    "from xgboost.sklearn import XGBRegressor\n",
    "from sklearn.compose import TransformedTargetRegressor\n",
    "\n",
    "from sklearn.preprocessing import StandardScaler, MinMaxScaler\n",
    "\n",
    "from sklearn.metrics import r2_score, mean_squared_error, mean_absolute_error, mean_absolute_percentage_error"
   ]
  },
  {
   "cell_type": "code",
   "execution_count": 40,
   "id": "d7c1fbed",
   "metadata": {},
   "outputs": [
    {
     "data": {
      "text/html": [
       "<div>\n",
       "<style scoped>\n",
       "    .dataframe tbody tr th:only-of-type {\n",
       "        vertical-align: middle;\n",
       "    }\n",
       "\n",
       "    .dataframe tbody tr th {\n",
       "        vertical-align: top;\n",
       "    }\n",
       "\n",
       "    .dataframe thead th {\n",
       "        text-align: right;\n",
       "    }\n",
       "</style>\n",
       "<table border=\"1\" class=\"dataframe\">\n",
       "  <thead>\n",
       "    <tr style=\"text-align: right;\">\n",
       "      <th></th>\n",
       "      <th>Humidity</th>\n",
       "      <th>Weather</th>\n",
       "      <th>Holiday</th>\n",
       "      <th>Season</th>\n",
       "      <th>Temperature</th>\n",
       "      <th>Hour</th>\n",
       "      <th>Count</th>\n",
       "      <th>Month</th>\n",
       "      <th>Year</th>\n",
       "      <th>Day Name</th>\n",
       "    </tr>\n",
       "  </thead>\n",
       "  <tbody>\n",
       "    <tr>\n",
       "      <th>count</th>\n",
       "      <td>11813.000000</td>\n",
       "      <td>11813.0</td>\n",
       "      <td>11813.0</td>\n",
       "      <td>11813.0</td>\n",
       "      <td>11813.000000</td>\n",
       "      <td>11813.000000</td>\n",
       "      <td>11813.000000</td>\n",
       "      <td>11813.000000</td>\n",
       "      <td>11813.000000</td>\n",
       "      <td>11813.000000</td>\n",
       "    </tr>\n",
       "    <tr>\n",
       "      <th>unique</th>\n",
       "      <td>NaN</td>\n",
       "      <td>4.0</td>\n",
       "      <td>2.0</td>\n",
       "      <td>4.0</td>\n",
       "      <td>NaN</td>\n",
       "      <td>NaN</td>\n",
       "      <td>NaN</td>\n",
       "      <td>NaN</td>\n",
       "      <td>NaN</td>\n",
       "      <td>NaN</td>\n",
       "    </tr>\n",
       "    <tr>\n",
       "      <th>top</th>\n",
       "      <td>NaN</td>\n",
       "      <td>1.0</td>\n",
       "      <td>0.0</td>\n",
       "      <td>3.0</td>\n",
       "      <td>NaN</td>\n",
       "      <td>NaN</td>\n",
       "      <td>NaN</td>\n",
       "      <td>NaN</td>\n",
       "      <td>NaN</td>\n",
       "      <td>NaN</td>\n",
       "    </tr>\n",
       "    <tr>\n",
       "      <th>freq</th>\n",
       "      <td>NaN</td>\n",
       "      <td>7802.0</td>\n",
       "      <td>11452.0</td>\n",
       "      <td>3043.0</td>\n",
       "      <td>NaN</td>\n",
       "      <td>NaN</td>\n",
       "      <td>NaN</td>\n",
       "      <td>NaN</td>\n",
       "      <td>NaN</td>\n",
       "      <td>NaN</td>\n",
       "    </tr>\n",
       "    <tr>\n",
       "      <th>mean</th>\n",
       "      <td>0.629196</td>\n",
       "      <td>NaN</td>\n",
       "      <td>NaN</td>\n",
       "      <td>NaN</td>\n",
       "      <td>0.494350</td>\n",
       "      <td>11.438585</td>\n",
       "      <td>173.384238</td>\n",
       "      <td>6.487514</td>\n",
       "      <td>2011.488360</td>\n",
       "      <td>3.014983</td>\n",
       "    </tr>\n",
       "    <tr>\n",
       "      <th>std</th>\n",
       "      <td>0.190793</td>\n",
       "      <td>NaN</td>\n",
       "      <td>NaN</td>\n",
       "      <td>NaN</td>\n",
       "      <td>0.192538</td>\n",
       "      <td>6.979256</td>\n",
       "      <td>155.931763</td>\n",
       "      <td>3.455726</td>\n",
       "      <td>0.499886</td>\n",
       "      <td>1.999457</td>\n",
       "    </tr>\n",
       "    <tr>\n",
       "      <th>min</th>\n",
       "      <td>0.080000</td>\n",
       "      <td>NaN</td>\n",
       "      <td>NaN</td>\n",
       "      <td>NaN</td>\n",
       "      <td>0.020000</td>\n",
       "      <td>0.000000</td>\n",
       "      <td>1.000000</td>\n",
       "      <td>1.000000</td>\n",
       "      <td>2011.000000</td>\n",
       "      <td>0.000000</td>\n",
       "    </tr>\n",
       "    <tr>\n",
       "      <th>25%</th>\n",
       "      <td>0.480000</td>\n",
       "      <td>NaN</td>\n",
       "      <td>NaN</td>\n",
       "      <td>NaN</td>\n",
       "      <td>0.340000</td>\n",
       "      <td>5.000000</td>\n",
       "      <td>38.000000</td>\n",
       "      <td>3.000000</td>\n",
       "      <td>2011.000000</td>\n",
       "      <td>1.000000</td>\n",
       "    </tr>\n",
       "    <tr>\n",
       "      <th>50%</th>\n",
       "      <td>0.630000</td>\n",
       "      <td>NaN</td>\n",
       "      <td>NaN</td>\n",
       "      <td>NaN</td>\n",
       "      <td>0.500000</td>\n",
       "      <td>11.000000</td>\n",
       "      <td>136.000000</td>\n",
       "      <td>6.000000</td>\n",
       "      <td>2011.000000</td>\n",
       "      <td>3.000000</td>\n",
       "    </tr>\n",
       "    <tr>\n",
       "      <th>75%</th>\n",
       "      <td>0.790000</td>\n",
       "      <td>NaN</td>\n",
       "      <td>NaN</td>\n",
       "      <td>NaN</td>\n",
       "      <td>0.660000</td>\n",
       "      <td>18.000000</td>\n",
       "      <td>267.000000</td>\n",
       "      <td>9.000000</td>\n",
       "      <td>2012.000000</td>\n",
       "      <td>5.000000</td>\n",
       "    </tr>\n",
       "    <tr>\n",
       "      <th>max</th>\n",
       "      <td>1.000000</td>\n",
       "      <td>NaN</td>\n",
       "      <td>NaN</td>\n",
       "      <td>NaN</td>\n",
       "      <td>1.000000</td>\n",
       "      <td>23.000000</td>\n",
       "      <td>645.000000</td>\n",
       "      <td>12.000000</td>\n",
       "      <td>2012.000000</td>\n",
       "      <td>6.000000</td>\n",
       "    </tr>\n",
       "  </tbody>\n",
       "</table>\n",
       "</div>"
      ],
      "text/plain": [
       "            Humidity  Weather  Holiday   Season   Temperature          Hour  \\\n",
       "count   11813.000000  11813.0  11813.0  11813.0  11813.000000  11813.000000   \n",
       "unique           NaN      4.0      2.0      4.0           NaN           NaN   \n",
       "top              NaN      1.0      0.0      3.0           NaN           NaN   \n",
       "freq             NaN   7802.0  11452.0   3043.0           NaN           NaN   \n",
       "mean        0.629196      NaN      NaN      NaN      0.494350     11.438585   \n",
       "std         0.190793      NaN      NaN      NaN      0.192538      6.979256   \n",
       "min         0.080000      NaN      NaN      NaN      0.020000      0.000000   \n",
       "25%         0.480000      NaN      NaN      NaN      0.340000      5.000000   \n",
       "50%         0.630000      NaN      NaN      NaN      0.500000     11.000000   \n",
       "75%         0.790000      NaN      NaN      NaN      0.660000     18.000000   \n",
       "max         1.000000      NaN      NaN      NaN      1.000000     23.000000   \n",
       "\n",
       "               Count         Month          Year      Day Name  \n",
       "count   11813.000000  11813.000000  11813.000000  11813.000000  \n",
       "unique           NaN           NaN           NaN           NaN  \n",
       "top              NaN           NaN           NaN           NaN  \n",
       "freq             NaN           NaN           NaN           NaN  \n",
       "mean      173.384238      6.487514   2011.488360      3.014983  \n",
       "std       155.931763      3.455726      0.499886      1.999457  \n",
       "min         1.000000      1.000000   2011.000000      0.000000  \n",
       "25%        38.000000      3.000000   2011.000000      1.000000  \n",
       "50%       136.000000      6.000000   2011.000000      3.000000  \n",
       "75%       267.000000      9.000000   2012.000000      5.000000  \n",
       "max       645.000000     12.000000   2012.000000      6.000000  "
      ]
     },
     "execution_count": 40,
     "metadata": {},
     "output_type": "execute_result"
    }
   ],
   "source": [
    "df_model.describe(include='all')"
   ]
  },
  {
   "cell_type": "markdown",
   "id": "db32205c",
   "metadata": {},
   "source": [
    "**Encoding**"
   ]
  },
  {
   "cell_type": "markdown",
   "id": "0ff7666d",
   "metadata": {},
   "source": [
    "Target: Count\n",
    "\n",
    "Passthrough: Humidity, Temperature, Hour, Month, Year\n",
    "\n",
    "OneHotEncoding: Season, Weather, Holiday\n",
    "\n",
    "BinaryEncoding: Day Name\n"
   ]
  },
  {
   "cell_type": "code",
   "execution_count": 41,
   "id": "7538727d",
   "metadata": {},
   "outputs": [],
   "source": [
    "# Mengubah fitur kategorikal menjadi numerikal\n",
    "\n",
    "transformer = ColumnTransformer([\n",
    "    ('One Hot', OneHotEncoder(drop='first', handle_unknown = 'ignore'), ['Season', 'Weather', 'Holiday']),\n",
    "    ('Binary', ce.BinaryEncoder(), ['Day Name'])\n",
    "], remainder='passthrough')"
   ]
  },
  {
   "cell_type": "markdown",
   "id": "af67ece1",
   "metadata": {},
   "source": [
    "**Data Splitting**"
   ]
  },
  {
   "cell_type": "code",
   "execution_count": 42,
   "id": "72018dd6",
   "metadata": {},
   "outputs": [],
   "source": [
    "# Memisahkan data independen variabel dengan target\n",
    "X = df_model.drop(['Count'], axis=1)\n",
    "y = df_model['Count']"
   ]
  },
  {
   "cell_type": "markdown",
   "id": "98451321",
   "metadata": {},
   "source": [
    "**Train & Test Splitting**"
   ]
  },
  {
   "cell_type": "code",
   "execution_count": 43,
   "id": "ce33a7c3",
   "metadata": {},
   "outputs": [],
   "source": [
    "# Splitting data training dan test dengan proporsi 70:30\n",
    "X_train, X_test, y_train, y_test= train_test_split(\n",
    "    X,\n",
    "    y,  \n",
    "    test_size=0.3,\n",
    "    random_state=2009)"
   ]
  },
  {
   "cell_type": "code",
   "execution_count": 44,
   "id": "76ba2f89",
   "metadata": {},
   "outputs": [],
   "source": [
    "# df_model"
   ]
  },
  {
   "cell_type": "markdown",
   "id": "66d99283",
   "metadata": {},
   "source": [
    "**Choose a Benchmark Model**"
   ]
  },
  {
   "cell_type": "code",
   "execution_count": 45,
   "id": "60e21071",
   "metadata": {},
   "outputs": [],
   "source": [
    "# Define algoritma yang digunakan\n",
    "lr = LinearRegression()\n",
    "knn = KNeighborsRegressor()\n",
    "dt = DecisionTreeRegressor(random_state=2009)\n",
    "rf = RandomForestRegressor(random_state=2009)\n",
    "xgb = XGBRegressor(random_state=2009)"
   ]
  },
  {
   "cell_type": "code",
   "execution_count": 46,
   "id": "507f7662",
   "metadata": {},
   "outputs": [
    {
     "name": "stdout",
     "output_type": "stream",
     "text": [
      "[-140.19622033 -142.66233693 -138.40702762 -145.31501764 -153.67892468] TransformedTargetRegressor(func=<ufunc 'log'>, inverse_func=<ufunc 'exp'>,\n",
      "                           regressor=LinearRegression())\n",
      "[ -95.21657615  -97.224386    -95.0739298   -97.28117804 -105.33533868] TransformedTargetRegressor(func=<ufunc 'log'>, inverse_func=<ufunc 'exp'>,\n",
      "                           regressor=LinearRegression())\n",
      "[-1.41972731 -1.25857911 -1.42418122 -1.42787427 -1.41011789] TransformedTargetRegressor(func=<ufunc 'log'>, inverse_func=<ufunc 'exp'>,\n",
      "                           regressor=LinearRegression())\n",
      "[ -92.63751287  -94.15482027  -88.47645779  -99.15097761 -105.28513102] TransformedTargetRegressor(func=<ufunc 'log'>, inverse_func=<ufunc 'exp'>,\n",
      "                           regressor=KNeighborsRegressor())\n",
      "[-59.03957042 -59.66229447 -57.19948093 -61.17964359 -66.04012013] TransformedTargetRegressor(func=<ufunc 'log'>, inverse_func=<ufunc 'exp'>,\n",
      "                           regressor=KNeighborsRegressor())\n",
      "[-0.81868696 -0.72813404 -0.86843141 -0.9459862  -0.90973412] TransformedTargetRegressor(func=<ufunc 'log'>, inverse_func=<ufunc 'exp'>,\n",
      "                           regressor=KNeighborsRegressor())\n",
      "[-62.14653915 -66.46091211 -59.28354047 -63.83493989 -64.83667896] TransformedTargetRegressor(func=<ufunc 'log'>, inverse_func=<ufunc 'exp'>,\n",
      "                           regressor=DecisionTreeRegressor(random_state=2009))\n",
      "[-36.74186214 -38.20495768 -35.88407915 -37.62712279 -37.73324253] TransformedTargetRegressor(func=<ufunc 'log'>, inverse_func=<ufunc 'exp'>,\n",
      "                           regressor=DecisionTreeRegressor(random_state=2009))\n",
      "[-0.44340669 -0.37504293 -0.42184377 -0.42942453 -0.41205138] TransformedTargetRegressor(func=<ufunc 'log'>, inverse_func=<ufunc 'exp'>,\n",
      "                           regressor=DecisionTreeRegressor(random_state=2009))\n",
      "[-43.02217608 -47.66189009 -41.92747768 -49.1815955  -49.31798059] TransformedTargetRegressor(func=<ufunc 'log'>, inverse_func=<ufunc 'exp'>,\n",
      "                           regressor=RandomForestRegressor(random_state=2009))\n",
      "[-26.42761456 -28.32350673 -25.65579533 -28.74985652 -30.11648016] TransformedTargetRegressor(func=<ufunc 'log'>, inverse_func=<ufunc 'exp'>,\n",
      "                           regressor=RandomForestRegressor(random_state=2009))\n",
      "[-0.29997369 -0.2659023  -0.28586325 -0.30034227 -0.30303626] TransformedTargetRegressor(func=<ufunc 'log'>, inverse_func=<ufunc 'exp'>,\n",
      "                           regressor=RandomForestRegressor(random_state=2009))\n",
      "[-39.85214637 -44.97344115 -41.19457763 -42.04228417 -47.29825185] TransformedTargetRegressor(func=<ufunc 'log'>, inverse_func=<ufunc 'exp'>,\n",
      "                           regressor=XGBRegressor(base_score=None, booster=None,\n",
      "                                                  callbacks=None,\n",
      "                                                  colsample_bylevel=None,\n",
      "                                                  colsample_bynode=None,\n",
      "                                                  colsample_bytree=None,\n",
      "                                                  early_stopping_rounds=None,\n",
      "                                                  enable_categorical=False,\n",
      "                                                  eval_metric=None, gamma=None,\n",
      "                                                  gpu_id=None, grow_policy=None,\n",
      "                                                  importance_type=None,\n",
      "                                                  interaction_constraints=None,\n",
      "                                                  learning_rate=None,\n",
      "                                                  max_bin=None,\n",
      "                                                  max_cat_to_onehot=None,\n",
      "                                                  max_delta_step=None,\n",
      "                                                  max_depth=None,\n",
      "                                                  max_leaves=None,\n",
      "                                                  min_child_weight=None,\n",
      "                                                  missing=nan,\n",
      "                                                  monotone_constraints=None,\n",
      "                                                  n_estimators=100, n_jobs=None,\n",
      "                                                  num_parallel_tree=None,\n",
      "                                                  predictor=None,\n",
      "                                                  random_state=2009,\n",
      "                                                  reg_alpha=None,\n",
      "                                                  reg_lambda=None, ...))\n",
      "[-24.78826237 -27.0167059  -25.11715367 -26.06938116 -28.52380716] TransformedTargetRegressor(func=<ufunc 'log'>, inverse_func=<ufunc 'exp'>,\n",
      "                           regressor=XGBRegressor(base_score=None, booster=None,\n",
      "                                                  callbacks=None,\n",
      "                                                  colsample_bylevel=None,\n",
      "                                                  colsample_bynode=None,\n",
      "                                                  colsample_bytree=None,\n",
      "                                                  early_stopping_rounds=None,\n",
      "                                                  enable_categorical=False,\n",
      "                                                  eval_metric=None, gamma=None,\n",
      "                                                  gpu_id=None, grow_policy=None,\n",
      "                                                  importance_type=None,\n",
      "                                                  interaction_constraints=None,\n",
      "                                                  learning_rate=None,\n",
      "                                                  max_bin=None,\n",
      "                                                  max_cat_to_onehot=None,\n",
      "                                                  max_delta_step=None,\n",
      "                                                  max_depth=None,\n",
      "                                                  max_leaves=None,\n",
      "                                                  min_child_weight=None,\n",
      "                                                  missing=nan,\n",
      "                                                  monotone_constraints=None,\n",
      "                                                  n_estimators=100, n_jobs=None,\n",
      "                                                  num_parallel_tree=None,\n",
      "                                                  predictor=None,\n",
      "                                                  random_state=2009,\n",
      "                                                  reg_alpha=None,\n",
      "                                                  reg_lambda=None, ...))\n",
      "[-0.25751768 -0.23952787 -0.26984505 -0.26586905 -0.29000872] TransformedTargetRegressor(func=<ufunc 'log'>, inverse_func=<ufunc 'exp'>,\n",
      "                           regressor=XGBRegressor(base_score=None, booster=None,\n",
      "                                                  callbacks=None,\n",
      "                                                  colsample_bylevel=None,\n",
      "                                                  colsample_bynode=None,\n",
      "                                                  colsample_bytree=None,\n",
      "                                                  early_stopping_rounds=None,\n",
      "                                                  enable_categorical=False,\n",
      "                                                  eval_metric=None, gamma=None,\n",
      "                                                  gpu_id=None, grow_policy=None,\n",
      "                                                  importance_type=None,\n",
      "                                                  interaction_constraints=None,\n",
      "                                                  learning_rate=None,\n",
      "                                                  max_bin=None,\n",
      "                                                  max_cat_to_onehot=None,\n",
      "                                                  max_delta_step=None,\n",
      "                                                  max_depth=None,\n",
      "                                                  max_leaves=None,\n",
      "                                                  min_child_weight=None,\n",
      "                                                  missing=nan,\n",
      "                                                  monotone_constraints=None,\n",
      "                                                  n_estimators=100, n_jobs=None,\n",
      "                                                  num_parallel_tree=None,\n",
      "                                                  predictor=None,\n",
      "                                                  random_state=2009,\n",
      "                                                  reg_alpha=None,\n",
      "                                                  reg_lambda=None, ...))\n"
     ]
    }
   ],
   "source": [
    "# Pemodelan dilakukan dalam skala logaritmik, namun kemudian di-inverse kembali untuk interpretasi\n",
    "log_lr = TransformedTargetRegressor(lr, func=np.log, inverse_func=np.exp)\n",
    "log_knn = TransformedTargetRegressor(knn, func=np.log, inverse_func=np.exp)\n",
    "log_dt = TransformedTargetRegressor(dt, func=np.log, inverse_func=np.exp)\n",
    "log_rf = TransformedTargetRegressor(rf, func=np.log, inverse_func=np.exp)\n",
    "log_xgb = TransformedTargetRegressor(xgb, func=np.log, inverse_func=np.exp)\n",
    "\n",
    "# Scaling data\n",
    "scaler = StandardScaler()\n",
    "\n",
    "# Kandidat algoritma\n",
    "models = [log_lr, log_knn, log_dt, log_rf, log_xgb]\n",
    "\n",
    "score_rmse = []\n",
    "nilai_mean_rmse = []\n",
    "nilai_std_rmse = []\n",
    "\n",
    "score_mae = []\n",
    "nilai_mean_mae = []\n",
    "nilai_std_mae = []\n",
    "\n",
    "score_mape = []\n",
    "nilai_mean_mape = []\n",
    "nilai_std_mape = []\n",
    "\n",
    "score_msle = []\n",
    "nilai_mean_msle = []\n",
    "nilai_std_msle = []\n",
    "\n",
    "# Mencari algoritma terbaik berdasarkan nilai MAE, MAPE, RMSE\n",
    "for i in models:\n",
    "    \n",
    "    crossval = KFold(n_splits=5, shuffle=True, random_state=1)\n",
    "\n",
    "    estimator = Pipeline([\n",
    "        ('preprocessing', transformer),\n",
    "        ('scaler', scaler),\n",
    "        ('model', i)\n",
    "    ])\n",
    "\n",
    "    # RMSE\n",
    "    model_cv_rmse = cross_val_score(\n",
    "        estimator, \n",
    "        X_train, \n",
    "        y_train, \n",
    "        cv=crossval, \n",
    "        scoring='neg_root_mean_squared_error', \n",
    "        error_score='raise'\n",
    "        )\n",
    "\n",
    "    print(model_cv_rmse, i)\n",
    "\n",
    "    score_rmse.append(model_cv_rmse)\n",
    "    nilai_mean_rmse.append(model_cv_rmse.mean())\n",
    "    nilai_std_rmse.append(model_cv_rmse.std())\n",
    "    \n",
    "    # MAE\n",
    "    model_cv_mae = cross_val_score(\n",
    "        estimator, \n",
    "        X_train, \n",
    "        y_train, \n",
    "        cv=crossval, \n",
    "        scoring='neg_mean_absolute_error', \n",
    "        error_score='raise'\n",
    "        )\n",
    "\n",
    "    print(model_cv_mae, i)\n",
    "\n",
    "    score_mae.append(model_cv_mae)\n",
    "    nilai_mean_mae.append(model_cv_mae.mean())\n",
    "    nilai_std_mae.append(model_cv_mae.std())\n",
    "\n",
    "    # MAPE\n",
    "    model_cv_mape = cross_val_score(\n",
    "        estimator, \n",
    "        X_train, \n",
    "        y_train, \n",
    "        cv=crossval, \n",
    "        scoring='neg_mean_absolute_percentage_error', \n",
    "        error_score='raise'\n",
    "        )\n",
    "\n",
    "    print(model_cv_mape, i)\n",
    "\n",
    "    score_mape.append(model_cv_mape)\n",
    "    nilai_mean_mape.append(model_cv_mape.mean())\n",
    "    nilai_std_mape.append(model_cv_mape.std())"
   ]
  },
  {
   "cell_type": "code",
   "execution_count": 47,
   "id": "41b8151d",
   "metadata": {},
   "outputs": [
    {
     "data": {
      "text/html": [
       "<div>\n",
       "<style scoped>\n",
       "    .dataframe tbody tr th:only-of-type {\n",
       "        vertical-align: middle;\n",
       "    }\n",
       "\n",
       "    .dataframe tbody tr th {\n",
       "        vertical-align: top;\n",
       "    }\n",
       "\n",
       "    .dataframe thead th {\n",
       "        text-align: right;\n",
       "    }\n",
       "</style>\n",
       "<table border=\"1\" class=\"dataframe\">\n",
       "  <thead>\n",
       "    <tr style=\"text-align: right;\">\n",
       "      <th></th>\n",
       "      <th>Model</th>\n",
       "      <th>Mean_MAE</th>\n",
       "      <th>Std_MAE</th>\n",
       "      <th>Mean_MAPE</th>\n",
       "      <th>Std_MAPE</th>\n",
       "      <th>Mean_RMSE</th>\n",
       "      <th>Std_RMSE</th>\n",
       "    </tr>\n",
       "  </thead>\n",
       "  <tbody>\n",
       "    <tr>\n",
       "      <th>0</th>\n",
       "      <td>Linear Regression</td>\n",
       "      <td>-98.026282</td>\n",
       "      <td>3.774423</td>\n",
       "      <td>-1.388096</td>\n",
       "      <td>0.065030</td>\n",
       "      <td>-144.051905</td>\n",
       "      <td>5.346715</td>\n",
       "    </tr>\n",
       "    <tr>\n",
       "      <th>1</th>\n",
       "      <td>KNN Regressor</td>\n",
       "      <td>-60.624222</td>\n",
       "      <td>2.993517</td>\n",
       "      <td>-0.854195</td>\n",
       "      <td>0.075980</td>\n",
       "      <td>-95.940980</td>\n",
       "      <td>5.786875</td>\n",
       "    </tr>\n",
       "    <tr>\n",
       "      <th>2</th>\n",
       "      <td>DecisionTree Regressor</td>\n",
       "      <td>-37.238253</td>\n",
       "      <td>0.825947</td>\n",
       "      <td>-0.416354</td>\n",
       "      <td>0.023056</td>\n",
       "      <td>-63.312522</td>\n",
       "      <td>2.453591</td>\n",
       "    </tr>\n",
       "    <tr>\n",
       "      <th>3</th>\n",
       "      <td>RandomForest Regressor</td>\n",
       "      <td>-27.854651</td>\n",
       "      <td>1.612978</td>\n",
       "      <td>-0.291024</td>\n",
       "      <td>0.013921</td>\n",
       "      <td>-46.222224</td>\n",
       "      <td>3.133668</td>\n",
       "    </tr>\n",
       "    <tr>\n",
       "      <th>4</th>\n",
       "      <td>XGBoost Regressor</td>\n",
       "      <td>-26.303062</td>\n",
       "      <td>1.356215</td>\n",
       "      <td>-0.264554</td>\n",
       "      <td>0.016453</td>\n",
       "      <td>-43.072140</td>\n",
       "      <td>2.699228</td>\n",
       "    </tr>\n",
       "  </tbody>\n",
       "</table>\n",
       "</div>"
      ],
      "text/plain": [
       "                    Model   Mean_MAE   Std_MAE  Mean_MAPE  Std_MAPE  \\\n",
       "0       Linear Regression -98.026282  3.774423  -1.388096  0.065030   \n",
       "1           KNN Regressor -60.624222  2.993517  -0.854195  0.075980   \n",
       "2  DecisionTree Regressor -37.238253  0.825947  -0.416354  0.023056   \n",
       "3  RandomForest Regressor -27.854651  1.612978  -0.291024  0.013921   \n",
       "4       XGBoost Regressor -26.303062  1.356215  -0.264554  0.016453   \n",
       "\n",
       "    Mean_RMSE  Std_RMSE  \n",
       "0 -144.051905  5.346715  \n",
       "1  -95.940980  5.786875  \n",
       "2  -63.312522  2.453591  \n",
       "3  -46.222224  3.133668  \n",
       "4  -43.072140  2.699228  "
      ]
     },
     "execution_count": 47,
     "metadata": {},
     "output_type": "execute_result"
    }
   ],
   "source": [
    "# Evaluasi hasil dari 5 kandidat algoritma yang digunakan\n",
    "pd.DataFrame({\n",
    "    'Model': ['Linear Regression', 'KNN Regressor', 'DecisionTree Regressor', 'RandomForest Regressor', 'XGBoost Regressor'],\n",
    "    'Mean_MAE': nilai_mean_mae,\n",
    "    'Std_MAE': nilai_std_mae,\n",
    "    'Mean_MAPE': nilai_mean_mape,\n",
    "    'Std_MAPE': nilai_std_mape,\n",
    "    'Mean_RMSE': nilai_mean_rmse,\n",
    "    'Std_RMSE': nilai_std_rmse\n",
    "})"
   ]
  },
  {
   "cell_type": "markdown",
   "id": "f1d2889b",
   "metadata": {},
   "source": [
    "Terdapat perbedaan cukup signifikan antara nilai RMSE dan MAE, di mana nilai RMSE lebih tinggi karena nilai residuals atau error-nya dikuadratkan terlebih dahulu sebelum dirata-ratakan. Hal ini menyebabkan RMSE akan memberikan 'weight' yang lebih tinggi untuk nilai error yang besar. Dengan kata lain, terdapat nilai-nilai error yang besar yang dihasilkan oleh semua algoritma yang digunakan, sehingga ada perbedaan signifikan antara nilai RMSE dan MAE.\n",
    "\n",
    "Berdasarkan nilai ketiga matriks tersebut, XGBoost adalah model terbaik. Selanjutnya, akan dilakukan prediksi test set dengan model XGBoost."
   ]
  },
  {
   "cell_type": "markdown",
   "id": "e4675098",
   "metadata": {},
   "source": [
    "**Penjelasan Singkat XGBoost**"
   ]
  },
  {
   "cell_type": "markdown",
   "id": "09e1ea57",
   "metadata": {},
   "source": [
    "Gradient boosting adalah algoritma supervised learning yang dapat memprediksi variabel target secara akurat dengan mengkombinasikan perkiraan satu set model yang lebih sederhana dan lemah. Saat menggunakannya untuk regresi, pembelajaran yang lemah adalah regression tree, setiap regression tree memetakan input data point ke salah satu daun yang berisi continuous score.\n",
    "\n",
    "Jika Random forest dapat dianalogikan dengan sekelompok orang yang bermusyawarah untuk membuat keputusan. Masing - masing orang membuat keputusan berdasarkan pengetahuannya. Setelah semua orang membuat keputusan, hasil akhirnya akan dipilih berdasarkan voting terbanyak.\n",
    "\n",
    "Maka untuk gradient boosting, dapat dianalogikan dengan sekelompok orang dimana setiap orangnya mencoba menyelesaikan kesalahan yang dibuat oleh seseorang yang sebelumnya telah membuat keputusan. Kemudian mereka mencoba menemukan solusi terbaik untuk masalah tersebut.\n",
    "\n",
    "XGBoost adalah singkatan dari Extreme Gradient Boosting, model ini memiliki kinerja yang baik karena penanganan yang robust (kuat) untuk berbagai jenis tipe data, hubungan, distribusi, dan berbagai hyperparameter yang dapat di tune. XGBoost dapat digunakan untuk regresi, klasifikasi, dan ranking problems.\n",
    "\n",
    "XGBoost meminimalkan fungsi objektif yang diregularisasi (L1 dan L2) yang menggabungkan convex loss function (berdasarkan selisih antara output target dan prediksi) dan penalty term untuk kompleksitas model (dengan kata lain, fungsi regression tree). Trainingnya berulang, menambahkan tree baru yang memprediksi residual atau error dari tree sebelumnya yang dikombinasikan dengan pohon sebelumnya untuk menghasilkan prediksi akhir. Disebut gradient boosting karena menggunakan algoritma turunan dari gradient untuk meminimalkan kerugian saat menambahkan model baru.\n",
    "\n",
    "Penjelasan lain terkait XGBoost : https://medium.com/about-developer-blog/xgboost-gone-wild-predicting-returns-with-extreme-gradient-boosting-3e2c16c5bc01\n",
    "\n"
   ]
  },
  {
   "cell_type": "markdown",
   "id": "3fc328e4",
   "metadata": {},
   "source": [
    "**Predict to Test Set with the Benchmark Model**"
   ]
  },
  {
   "cell_type": "code",
   "execution_count": 48,
   "id": "3896d272",
   "metadata": {},
   "outputs": [
    {
     "data": {
      "text/html": [
       "<div>\n",
       "<style scoped>\n",
       "    .dataframe tbody tr th:only-of-type {\n",
       "        vertical-align: middle;\n",
       "    }\n",
       "\n",
       "    .dataframe tbody tr th {\n",
       "        vertical-align: top;\n",
       "    }\n",
       "\n",
       "    .dataframe thead th {\n",
       "        text-align: right;\n",
       "    }\n",
       "</style>\n",
       "<table border=\"1\" class=\"dataframe\">\n",
       "  <thead>\n",
       "    <tr style=\"text-align: right;\">\n",
       "      <th></th>\n",
       "      <th>MAE</th>\n",
       "      <th>MAPE</th>\n",
       "      <th>RMSE</th>\n",
       "    </tr>\n",
       "  </thead>\n",
       "  <tbody>\n",
       "    <tr>\n",
       "      <th>XGB</th>\n",
       "      <td>25.660473</td>\n",
       "      <td>0.417682</td>\n",
       "      <td>40.253471</td>\n",
       "    </tr>\n",
       "  </tbody>\n",
       "</table>\n",
       "</div>"
      ],
      "text/plain": [
       "           MAE      MAPE       RMSE\n",
       "XGB  25.660473  0.417682  40.253471"
      ]
     },
     "execution_count": 48,
     "metadata": {},
     "output_type": "execute_result"
    }
   ],
   "source": [
    "# Benchmark model terbaik\n",
    "models = {\n",
    "    'XGB': XGBRegressor(random_state=2009),\n",
    "}\n",
    "\n",
    "score_mae = []\n",
    "score_mape = []\n",
    "score_rmse = []\n",
    "\n",
    "# Prediksi pada test set\n",
    "for i in models:\n",
    "\n",
    "    model = Pipeline([\n",
    "        ('preprocessing', transformer),\n",
    "        ('scaler', scaler),\n",
    "        ('model', models[i])\n",
    "        ])\n",
    "\n",
    "    model.fit(X_train, y_train)\n",
    "    y_pred = model.predict(X_test)\n",
    "    score_mae.append(mean_absolute_error(y_test, y_pred))\n",
    "    score_mape.append(mean_absolute_percentage_error(y_test, y_pred))\n",
    "    score_rmse.append(np.sqrt(mean_squared_error(y_test, y_pred)))\n",
    "\n",
    "score_before_tuning = pd.DataFrame({'MAE': score_mae, 'MAPE': score_mape, 'RMSE': score_rmse}, index=models.keys())\n",
    "score_before_tuning"
   ]
  },
  {
   "cell_type": "markdown",
   "id": "710b9632",
   "metadata": {},
   "source": [
    "Ketika dilakukan prediksi pada test set, performa XGBoost juga cukup baik dan tidak memiliki berbedaan signifikan dengan train set. Sehingga, dapat diartikan bahwa model tidak mengalami overfitting atau underfitting."
   ]
  },
  {
   "cell_type": "markdown",
   "id": "235e81dc",
   "metadata": {},
   "source": [
    "**Hyperparameter Tuning**"
   ]
  },
  {
   "cell_type": "markdown",
   "id": "c0c99be7",
   "metadata": {},
   "source": [
    "Selanjutnya, kita akan melakukan hyperparameter tuning pada model XGBoost dengan harapan dapat meningkatkan performa model.\n",
    "\n",
    "Berikut ini panduan dan beberapa tips untuk XGBoost Hyperparameter Tuning :\n",
    "\n",
    "https://xgboost.readthedocs.io/en/latest/parameter.html\n",
    "\n",
    "https://towardsdatascience.com/xgboost-fine-tune-and-optimize-your-model-23d996fab663"
   ]
  },
  {
   "cell_type": "code",
   "execution_count": 49,
   "id": "5a5f6caa",
   "metadata": {},
   "outputs": [],
   "source": [
    "# Kedalaman pohon. Semakin dalam kemungkinan meningkatkan performance, namun juga kompleksitas dan kemungkinan overfit.\n",
    "# value integer > 0. Defaultnya 6.\n",
    "max_depth = list(np.arange(5, 16)) # 5 - 15\n",
    "\n",
    "# Learning rate. Menentukan ukuran step pada tiap iterasi sementara model mengoptimalkan ke arah tujuannya.\n",
    "# Learning rate rendah membuat komputasi lebih lambat, dan perlu lebih banyak putaran untuk mencapai pengurangan di\n",
    "# residual error yang sama seperti model dengan learning rate tinggi. Namun akan mengoptimalkan peluang untuk mencapai best optimum.\n",
    "# Nilainya 0 - 1. Defaultnya 0,3.\n",
    "learning_rate = list(np.arange(1, 10)/10) # 0.1 - 0.9\n",
    "\n",
    "# Jumlah pohon di ensemble. Ekuivalen dengan total round dari boosting.\n",
    "# value integer > 0. Defaultnya 100.\n",
    "n_estimators = list(np.arange(100, 300)) # 100 - 299\n",
    "\n",
    "# Jumlah feature yang digunakan untuk tiap pohon (% dari total kolom train set). Mewakili kolom yang akan diambil samplenya\n",
    "# secara acak untuk tiap tree. Kemungkinan dapat meningkatkan overfitting.\n",
    "# value antara 0 - 1. Defaultnya 1.\n",
    "colsample_bytree = list(np.arange(1, 10)/10) # 0.1 - 0.9\n",
    "\n",
    "# Jumlah baris tiap pohon (% dari total baris train set). Mewakili feaction observations yang akan dijadikan sample per tree.\n",
    "# Nilai lebih rendah dapat mencegah overfitting tapi bisa menyebabkan underfitting.\n",
    "# value antara 0 - 1. Defaultnya 1.\n",
    "subsample = list(np.arange(1, 10)/10) # 0.1 - 0.9\n",
    "\n",
    "# Alpha. L1 regularization pada weights (Lasso Regression). Dapat meningkatkan speed performance saat featurenya banyak.\n",
    "# Semakin besar nilainya, semakin konservatif/simpel modelnya\n",
    "# Defaultnya 0.\n",
    "reg_alpha = list(np.logspace(-1, 1, 10)) # 0.1 - 10\n",
    "\n",
    "# Lambda. L2 regulatization pada weights (Ridge Regression). Dapat menurunkan overfitting.\n",
    "# Defaultnya 1.\n",
    "reg_lambda = list(np.logspace(-1, 1, 10)) # 0.1 - 10\n",
    "\n",
    "# Gamma (min_impurity_decrease). Pseudo-regulatization parameter, bergantung pada parameter lainnya.\n",
    "# Semakin besar nilainya, semakin konservatif/simpel modelnya.\n",
    "# Integer berapapun. Defaultnya 0.\n",
    "gamma = list(np.arange(5, 16)) # 5 - 15\n",
    "\n",
    "# Hyperparam space XGboost\n",
    "hyperparam_space_xgb = {\n",
    "    'model__max_depth': max_depth, \n",
    "    'model__learning_rate': learning_rate,\n",
    "    'model__n_estimators': n_estimators,\n",
    "    'model__subsample': subsample,\n",
    "    'model__gamma': gamma,\n",
    "    'model__colsample_bytree': colsample_bytree,\n",
    "    'model__reg_alpha': reg_alpha,\n",
    "    'model__reg_lambda': reg_lambda\n",
    "}"
   ]
  },
  {
   "cell_type": "code",
   "execution_count": 50,
   "id": "5f635962",
   "metadata": {},
   "outputs": [],
   "source": [
    "# Benchmark model dengan hyperparameter tuning\n",
    "xgb = XGBRegressor(random_state=2009, verbosity=0)\n",
    "\n",
    "# Membuat algorithm chains\n",
    "estimator_xgb = Pipeline([\n",
    "        ('preprocessing', transformer),\n",
    "        ('scaler', scaler),\n",
    "        ('model', xgb)\n",
    "        ])\n",
    "\n",
    "crossval = KFold(n_splits=5, shuffle=True, random_state=1)\n",
    "\n",
    "# Hyperparameter tuning\n",
    "random_xgb = RandomizedSearchCV(\n",
    "    estimator_xgb, \n",
    "    param_distributions = hyperparam_space_xgb,\n",
    "    n_iter = 50,\n",
    "    cv = crossval, \n",
    "    scoring = ['neg_mean_absolute_error', 'neg_mean_absolute_percentage_error', 'neg_root_mean_squared_error'], \n",
    "    n_jobs = -1,\n",
    "    refit = 'neg_root_mean_squared_error', # Hanya bisa memilih salah stau metric untuk optimisasi\n",
    "    random_state = 2009  \n",
    ")"
   ]
  },
  {
   "cell_type": "code",
   "execution_count": 51,
   "id": "0cff5057",
   "metadata": {},
   "outputs": [
    {
     "data": {
      "text/plain": [
       "RandomizedSearchCV(cv=KFold(n_splits=5, random_state=1, shuffle=True),\n",
       "                   estimator=Pipeline(steps=[('preprocessing',\n",
       "                                              ColumnTransformer(remainder='passthrough',\n",
       "                                                                transformers=[('One '\n",
       "                                                                               'Hot',\n",
       "                                                                               OneHotEncoder(drop='first',\n",
       "                                                                                             handle_unknown='ignore'),\n",
       "                                                                               ['Season',\n",
       "                                                                                'Weather',\n",
       "                                                                                'Holiday']),\n",
       "                                                                              ('Binary',\n",
       "                                                                               BinaryEncoder(),\n",
       "                                                                               ['Day '\n",
       "                                                                                'Name'])])),\n",
       "                                             ('scaler', StandardScaler()),\n",
       "                                             ('model',\n",
       "                                              XGBReg...\n",
       "                                                              0.2782559402207124,\n",
       "                                                              0.46415888336127786,\n",
       "                                                              0.774263682681127,\n",
       "                                                              1.291549665014884,\n",
       "                                                              2.1544346900318834,\n",
       "                                                              3.593813663804626,\n",
       "                                                              5.994842503189409,\n",
       "                                                              10.0],\n",
       "                                        'model__subsample': [0.1, 0.2, 0.3, 0.4,\n",
       "                                                             0.5, 0.6, 0.7, 0.8,\n",
       "                                                             0.9]},\n",
       "                   random_state=2009, refit='neg_root_mean_squared_error',\n",
       "                   scoring=['neg_mean_absolute_error',\n",
       "                            'neg_mean_absolute_percentage_error',\n",
       "                            'neg_root_mean_squared_error'])"
      ]
     },
     "execution_count": 51,
     "metadata": {},
     "output_type": "execute_result"
    }
   ],
   "source": [
    "# Fitting data training untuk mencari parameter terbaik\n",
    "random_xgb.fit(X_train, y_train)"
   ]
  },
  {
   "cell_type": "code",
   "execution_count": 52,
   "id": "fee76b09",
   "metadata": {},
   "outputs": [
    {
     "data": {
      "text/html": [
       "<div>\n",
       "<style scoped>\n",
       "    .dataframe tbody tr th:only-of-type {\n",
       "        vertical-align: middle;\n",
       "    }\n",
       "\n",
       "    .dataframe tbody tr th {\n",
       "        vertical-align: top;\n",
       "    }\n",
       "\n",
       "    .dataframe thead th {\n",
       "        text-align: right;\n",
       "    }\n",
       "</style>\n",
       "<table border=\"1\" class=\"dataframe\">\n",
       "  <thead>\n",
       "    <tr style=\"text-align: right;\">\n",
       "      <th></th>\n",
       "      <th>mean_fit_time</th>\n",
       "      <th>std_fit_time</th>\n",
       "      <th>mean_score_time</th>\n",
       "      <th>std_score_time</th>\n",
       "      <th>param_model__subsample</th>\n",
       "      <th>param_model__reg_lambda</th>\n",
       "      <th>param_model__reg_alpha</th>\n",
       "      <th>param_model__n_estimators</th>\n",
       "      <th>param_model__max_depth</th>\n",
       "      <th>param_model__learning_rate</th>\n",
       "      <th>...</th>\n",
       "      <th>std_test_neg_mean_absolute_percentage_error</th>\n",
       "      <th>rank_test_neg_mean_absolute_percentage_error</th>\n",
       "      <th>split0_test_neg_root_mean_squared_error</th>\n",
       "      <th>split1_test_neg_root_mean_squared_error</th>\n",
       "      <th>split2_test_neg_root_mean_squared_error</th>\n",
       "      <th>split3_test_neg_root_mean_squared_error</th>\n",
       "      <th>split4_test_neg_root_mean_squared_error</th>\n",
       "      <th>mean_test_neg_root_mean_squared_error</th>\n",
       "      <th>std_test_neg_root_mean_squared_error</th>\n",
       "      <th>rank_test_neg_root_mean_squared_error</th>\n",
       "    </tr>\n",
       "  </thead>\n",
       "  <tbody>\n",
       "    <tr>\n",
       "      <th>31</th>\n",
       "      <td>7.667497</td>\n",
       "      <td>0.150102</td>\n",
       "      <td>0.102838</td>\n",
       "      <td>0.008501</td>\n",
       "      <td>0.4</td>\n",
       "      <td>5.994843</td>\n",
       "      <td>0.1</td>\n",
       "      <td>215</td>\n",
       "      <td>15</td>\n",
       "      <td>0.1</td>\n",
       "      <td>...</td>\n",
       "      <td>0.019888</td>\n",
       "      <td>1</td>\n",
       "      <td>-37.701355</td>\n",
       "      <td>-41.291522</td>\n",
       "      <td>-39.249729</td>\n",
       "      <td>-41.948774</td>\n",
       "      <td>-43.106209</td>\n",
       "      <td>-40.659518</td>\n",
       "      <td>1.938357</td>\n",
       "      <td>1</td>\n",
       "    </tr>\n",
       "    <tr>\n",
       "      <th>23</th>\n",
       "      <td>8.304629</td>\n",
       "      <td>0.285886</td>\n",
       "      <td>0.094947</td>\n",
       "      <td>0.003302</td>\n",
       "      <td>0.9</td>\n",
       "      <td>2.154435</td>\n",
       "      <td>10.0</td>\n",
       "      <td>202</td>\n",
       "      <td>15</td>\n",
       "      <td>0.1</td>\n",
       "      <td>...</td>\n",
       "      <td>0.025816</td>\n",
       "      <td>2</td>\n",
       "      <td>-38.091620</td>\n",
       "      <td>-42.562103</td>\n",
       "      <td>-39.926687</td>\n",
       "      <td>-42.807302</td>\n",
       "      <td>-44.818364</td>\n",
       "      <td>-41.641215</td>\n",
       "      <td>2.359716</td>\n",
       "      <td>2</td>\n",
       "    </tr>\n",
       "    <tr>\n",
       "      <th>38</th>\n",
       "      <td>6.382426</td>\n",
       "      <td>0.119140</td>\n",
       "      <td>0.075198</td>\n",
       "      <td>0.004019</td>\n",
       "      <td>0.6</td>\n",
       "      <td>2.154435</td>\n",
       "      <td>1.29155</td>\n",
       "      <td>275</td>\n",
       "      <td>10</td>\n",
       "      <td>0.1</td>\n",
       "      <td>...</td>\n",
       "      <td>0.036988</td>\n",
       "      <td>3</td>\n",
       "      <td>-39.345120</td>\n",
       "      <td>-42.190639</td>\n",
       "      <td>-40.144214</td>\n",
       "      <td>-43.095715</td>\n",
       "      <td>-44.392022</td>\n",
       "      <td>-41.833542</td>\n",
       "      <td>1.860779</td>\n",
       "      <td>3</td>\n",
       "    </tr>\n",
       "    <tr>\n",
       "      <th>49</th>\n",
       "      <td>4.967441</td>\n",
       "      <td>0.081252</td>\n",
       "      <td>0.069860</td>\n",
       "      <td>0.012536</td>\n",
       "      <td>0.7</td>\n",
       "      <td>10.0</td>\n",
       "      <td>0.1</td>\n",
       "      <td>228</td>\n",
       "      <td>15</td>\n",
       "      <td>0.1</td>\n",
       "      <td>...</td>\n",
       "      <td>0.030627</td>\n",
       "      <td>6</td>\n",
       "      <td>-41.672058</td>\n",
       "      <td>-45.501788</td>\n",
       "      <td>-43.322922</td>\n",
       "      <td>-44.329485</td>\n",
       "      <td>-44.954528</td>\n",
       "      <td>-43.956156</td>\n",
       "      <td>1.352271</td>\n",
       "      <td>4</td>\n",
       "    </tr>\n",
       "    <tr>\n",
       "      <th>33</th>\n",
       "      <td>5.568708</td>\n",
       "      <td>0.200000</td>\n",
       "      <td>0.079596</td>\n",
       "      <td>0.013774</td>\n",
       "      <td>0.9</td>\n",
       "      <td>10.0</td>\n",
       "      <td>5.994843</td>\n",
       "      <td>162</td>\n",
       "      <td>14</td>\n",
       "      <td>0.4</td>\n",
       "      <td>...</td>\n",
       "      <td>0.041212</td>\n",
       "      <td>5</td>\n",
       "      <td>-41.845992</td>\n",
       "      <td>-45.118278</td>\n",
       "      <td>-42.489219</td>\n",
       "      <td>-44.270730</td>\n",
       "      <td>-46.849719</td>\n",
       "      <td>-44.114787</td>\n",
       "      <td>1.805606</td>\n",
       "      <td>5</td>\n",
       "    </tr>\n",
       "  </tbody>\n",
       "</table>\n",
       "<p>5 rows × 37 columns</p>\n",
       "</div>"
      ],
      "text/plain": [
       "    mean_fit_time  std_fit_time  mean_score_time  std_score_time  \\\n",
       "31       7.667497      0.150102         0.102838        0.008501   \n",
       "23       8.304629      0.285886         0.094947        0.003302   \n",
       "38       6.382426      0.119140         0.075198        0.004019   \n",
       "49       4.967441      0.081252         0.069860        0.012536   \n",
       "33       5.568708      0.200000         0.079596        0.013774   \n",
       "\n",
       "   param_model__subsample param_model__reg_lambda param_model__reg_alpha  \\\n",
       "31                    0.4                5.994843                    0.1   \n",
       "23                    0.9                2.154435                   10.0   \n",
       "38                    0.6                2.154435                1.29155   \n",
       "49                    0.7                    10.0                    0.1   \n",
       "33                    0.9                    10.0               5.994843   \n",
       "\n",
       "   param_model__n_estimators param_model__max_depth  \\\n",
       "31                       215                     15   \n",
       "23                       202                     15   \n",
       "38                       275                     10   \n",
       "49                       228                     15   \n",
       "33                       162                     14   \n",
       "\n",
       "   param_model__learning_rate  ...  \\\n",
       "31                        0.1  ...   \n",
       "23                        0.1  ...   \n",
       "38                        0.1  ...   \n",
       "49                        0.1  ...   \n",
       "33                        0.4  ...   \n",
       "\n",
       "   std_test_neg_mean_absolute_percentage_error  \\\n",
       "31                                    0.019888   \n",
       "23                                    0.025816   \n",
       "38                                    0.036988   \n",
       "49                                    0.030627   \n",
       "33                                    0.041212   \n",
       "\n",
       "   rank_test_neg_mean_absolute_percentage_error  \\\n",
       "31                                            1   \n",
       "23                                            2   \n",
       "38                                            3   \n",
       "49                                            6   \n",
       "33                                            5   \n",
       "\n",
       "   split0_test_neg_root_mean_squared_error  \\\n",
       "31                              -37.701355   \n",
       "23                              -38.091620   \n",
       "38                              -39.345120   \n",
       "49                              -41.672058   \n",
       "33                              -41.845992   \n",
       "\n",
       "    split1_test_neg_root_mean_squared_error  \\\n",
       "31                               -41.291522   \n",
       "23                               -42.562103   \n",
       "38                               -42.190639   \n",
       "49                               -45.501788   \n",
       "33                               -45.118278   \n",
       "\n",
       "    split2_test_neg_root_mean_squared_error  \\\n",
       "31                               -39.249729   \n",
       "23                               -39.926687   \n",
       "38                               -40.144214   \n",
       "49                               -43.322922   \n",
       "33                               -42.489219   \n",
       "\n",
       "    split3_test_neg_root_mean_squared_error  \\\n",
       "31                               -41.948774   \n",
       "23                               -42.807302   \n",
       "38                               -43.095715   \n",
       "49                               -44.329485   \n",
       "33                               -44.270730   \n",
       "\n",
       "    split4_test_neg_root_mean_squared_error  \\\n",
       "31                               -43.106209   \n",
       "23                               -44.818364   \n",
       "38                               -44.392022   \n",
       "49                               -44.954528   \n",
       "33                               -46.849719   \n",
       "\n",
       "    mean_test_neg_root_mean_squared_error  \\\n",
       "31                             -40.659518   \n",
       "23                             -41.641215   \n",
       "38                             -41.833542   \n",
       "49                             -43.956156   \n",
       "33                             -44.114787   \n",
       "\n",
       "    std_test_neg_root_mean_squared_error  \\\n",
       "31                              1.938357   \n",
       "23                              2.359716   \n",
       "38                              1.860779   \n",
       "49                              1.352271   \n",
       "33                              1.805606   \n",
       "\n",
       "    rank_test_neg_root_mean_squared_error  \n",
       "31                                      1  \n",
       "23                                      2  \n",
       "38                                      3  \n",
       "49                                      4  \n",
       "33                                      5  \n",
       "\n",
       "[5 rows x 37 columns]"
      ]
     },
     "execution_count": 52,
     "metadata": {},
     "output_type": "execute_result"
    }
   ],
   "source": [
    "# Melihat hasil tuning dalam bentuk dataframe. Diurutkan berdasarkan MAE, MAPE, RMSE\n",
    "pd.DataFrame(random_xgb.cv_results_).sort_values(by=['rank_test_neg_root_mean_squared_error', 'rank_test_neg_mean_absolute_error', 'rank_test_neg_mean_absolute_percentage_error']).head()"
   ]
  },
  {
   "cell_type": "code",
   "execution_count": 53,
   "id": "0a99b584",
   "metadata": {},
   "outputs": [
    {
     "name": "stdout",
     "output_type": "stream",
     "text": [
      "XGBoost\n",
      "Best_score: -40.65951776406382\n",
      "Best_params: {'model__subsample': 0.4, 'model__reg_lambda': 5.994842503189409, 'model__reg_alpha': 0.1, 'model__n_estimators': 215, 'model__max_depth': 15, 'model__learning_rate': 0.1, 'model__gamma': 14, 'model__colsample_bytree': 0.8}\n"
     ]
    }
   ],
   "source": [
    "# Cek skor dan params terbaik\n",
    "print('XGBoost')\n",
    "print('Best_score:', random_xgb.best_score_)\n",
    "print('Best_params:', random_xgb.best_params_)"
   ]
  },
  {
   "cell_type": "markdown",
   "id": "f2b9b3b4",
   "metadata": {},
   "source": [
    "**Predict Test Set With Tuned Model**"
   ]
  },
  {
   "cell_type": "code",
   "execution_count": 54,
   "id": "3256f9e4",
   "metadata": {},
   "outputs": [
    {
     "data": {
      "text/html": [
       "<div>\n",
       "<style scoped>\n",
       "    .dataframe tbody tr th:only-of-type {\n",
       "        vertical-align: middle;\n",
       "    }\n",
       "\n",
       "    .dataframe tbody tr th {\n",
       "        vertical-align: top;\n",
       "    }\n",
       "\n",
       "    .dataframe thead th {\n",
       "        text-align: right;\n",
       "    }\n",
       "</style>\n",
       "<table border=\"1\" class=\"dataframe\">\n",
       "  <thead>\n",
       "    <tr style=\"text-align: right;\">\n",
       "      <th></th>\n",
       "      <th>MAE</th>\n",
       "      <th>MAPE</th>\n",
       "      <th>RMSE</th>\n",
       "    </tr>\n",
       "  </thead>\n",
       "  <tbody>\n",
       "    <tr>\n",
       "      <th>XGB</th>\n",
       "      <td>24.974991</td>\n",
       "      <td>0.435097</td>\n",
       "      <td>39.128779</td>\n",
       "    </tr>\n",
       "  </tbody>\n",
       "</table>\n",
       "</div>"
      ],
      "text/plain": [
       "           MAE      MAPE       RMSE\n",
       "XGB  24.974991  0.435097  39.128779"
      ]
     },
     "execution_count": 54,
     "metadata": {},
     "output_type": "execute_result"
    }
   ],
   "source": [
    "# Model XGBoost\n",
    "model = {'XGB': XGBRegressor(random_state=2009)}\n",
    "\n",
    "# Define model terhadap estimator terbaik\n",
    "xgb_tuning = random_xgb.best_estimator_\n",
    "\n",
    "# Fitting model\n",
    "xgb_tuning.fit(X_train, y_train)\n",
    "\n",
    "# Predict test set\n",
    "y_pred_xgb_tuning = xgb_tuning.predict(X_test)\n",
    "\n",
    "# Simpan nilai metrics MAE & MAPE setelah tuning\n",
    "mae_xgb_tuning = mean_absolute_error(y_test, y_pred_xgb_tuning)\n",
    "mape_xgb_tuning = mean_absolute_percentage_error(y_test, y_pred_xgb_tuning)\n",
    "rmse_xgb_tuning = np.sqrt(mean_squared_error(y_test, y_pred_xgb_tuning))\n",
    "\n",
    "score_after_tuning = pd.DataFrame({'MAE': mae_xgb_tuning, 'MAPE': mape_xgb_tuning, 'RMSE': rmse_xgb_tuning}, index=model.keys())\n",
    "score_after_tuning"
   ]
  },
  {
   "cell_type": "markdown",
   "id": "c5b0313e",
   "metadata": {},
   "source": [
    "**Performance Comparison**\n",
    "\n",
    "Perbandingan performa model XGBoost sebelum dan sesudah dilakukan hyperparameter tuning."
   ]
  },
  {
   "cell_type": "code",
   "execution_count": 55,
   "id": "fb810f85",
   "metadata": {},
   "outputs": [
    {
     "data": {
      "text/html": [
       "<div>\n",
       "<style scoped>\n",
       "    .dataframe tbody tr th:only-of-type {\n",
       "        vertical-align: middle;\n",
       "    }\n",
       "\n",
       "    .dataframe tbody tr th {\n",
       "        vertical-align: top;\n",
       "    }\n",
       "\n",
       "    .dataframe thead th {\n",
       "        text-align: right;\n",
       "    }\n",
       "</style>\n",
       "<table border=\"1\" class=\"dataframe\">\n",
       "  <thead>\n",
       "    <tr style=\"text-align: right;\">\n",
       "      <th></th>\n",
       "      <th>MAE</th>\n",
       "      <th>MAPE</th>\n",
       "      <th>RMSE</th>\n",
       "    </tr>\n",
       "  </thead>\n",
       "  <tbody>\n",
       "    <tr>\n",
       "      <th>XGB</th>\n",
       "      <td>25.660473</td>\n",
       "      <td>0.417682</td>\n",
       "      <td>40.253471</td>\n",
       "    </tr>\n",
       "  </tbody>\n",
       "</table>\n",
       "</div>"
      ],
      "text/plain": [
       "           MAE      MAPE       RMSE\n",
       "XGB  25.660473  0.417682  40.253471"
      ]
     },
     "execution_count": 55,
     "metadata": {},
     "output_type": "execute_result"
    }
   ],
   "source": [
    "# Sebelum hyperparameter tuning\n",
    "pd.DataFrame(score_before_tuning.loc['XGB']).T"
   ]
  },
  {
   "cell_type": "code",
   "execution_count": 56,
   "id": "03f39498",
   "metadata": {},
   "outputs": [
    {
     "data": {
      "text/html": [
       "<div>\n",
       "<style scoped>\n",
       "    .dataframe tbody tr th:only-of-type {\n",
       "        vertical-align: middle;\n",
       "    }\n",
       "\n",
       "    .dataframe tbody tr th {\n",
       "        vertical-align: top;\n",
       "    }\n",
       "\n",
       "    .dataframe thead th {\n",
       "        text-align: right;\n",
       "    }\n",
       "</style>\n",
       "<table border=\"1\" class=\"dataframe\">\n",
       "  <thead>\n",
       "    <tr style=\"text-align: right;\">\n",
       "      <th></th>\n",
       "      <th>MAE</th>\n",
       "      <th>MAPE</th>\n",
       "      <th>RMSE</th>\n",
       "    </tr>\n",
       "  </thead>\n",
       "  <tbody>\n",
       "    <tr>\n",
       "      <th>XGB</th>\n",
       "      <td>24.974991</td>\n",
       "      <td>0.435097</td>\n",
       "      <td>39.128779</td>\n",
       "    </tr>\n",
       "  </tbody>\n",
       "</table>\n",
       "</div>"
      ],
      "text/plain": [
       "           MAE      MAPE       RMSE\n",
       "XGB  24.974991  0.435097  39.128779"
      ]
     },
     "execution_count": 56,
     "metadata": {},
     "output_type": "execute_result"
    }
   ],
   "source": [
    "score_after_tuning"
   ]
  },
  {
   "cell_type": "markdown",
   "id": "03e778ff",
   "metadata": {},
   "source": [
    "Dapat dilihat bahwa setelah dilakukan hyperparameter tuning, model mengalami peningkatan performa.\n",
    "\n",
    "RMSE, MAE & MAPE sebelum tuning: 40.25, 25.66, 0.41\n",
    "RMSE, MAE & MAPE setelah tuning: 39.12, 24.97, 0.43"
   ]
  },
  {
   "cell_type": "code",
   "execution_count": 57,
   "id": "68d21b43",
   "metadata": {},
   "outputs": [
    {
     "data": {
      "image/png": "[encoded data removed]",
      "text/plain": [
       "<Figure size 1008x576 with 1 Axes>"
      ]
     },
     "metadata": {
      "needs_background": "light"
     },
     "output_type": "display_data"
    }
   ],
   "source": [
    "plt.figure(figsize=(14, 8))\n",
    "plot = sns.scatterplot(x=y_test, y=y_pred_xgb_tuning).set(title='Actual vs. Prediction Count', \n",
    "                                               xlabel='Actual Count', \n",
    "                                               ylabel='Predicted Count');"
   ]
  },
  {
   "cell_type": "markdown",
   "id": "acb72bd6",
   "metadata": {},
   "source": [
    "Dari scatterplot diatas, terlihat bahwa hasil prediksi yang diperoleh cukup baik. Namun masih terdapat kemungkinan bias."
   ]
  },
  {
   "cell_type": "markdown",
   "id": "2d0cfaba",
   "metadata": {},
   "source": [
    "**Feature Importance**"
   ]
  },
  {
   "cell_type": "markdown",
   "id": "ebec3b2c",
   "metadata": {},
   "source": [
    "Untuk dapat mengetahui sebenarnya fitur apa saja yang sangat memengaruhi target (Count), kita dapat mengeceknya melalui function feature_importances_."
   ]
  },
  {
   "cell_type": "code",
   "execution_count": 58,
   "id": "25336fc0",
   "metadata": {},
   "outputs": [],
   "source": [
    "# transformer.get_feature_names()"
   ]
  },
  {
   "cell_type": "code",
   "execution_count": 59,
   "id": "11c57639",
   "metadata": {},
   "outputs": [
    {
     "data": {
      "image/png": "[encoded data removed]",
      "text/plain": [
       "<Figure size 432x288 with 1 Axes>"
      ]
     },
     "metadata": {
      "needs_background": "light"
     },
     "output_type": "display_data"
    }
   ],
   "source": [
    "# Plot feature importances\n",
    "feature_imp = pd.Series(xgb_tuning['model'].feature_importances_, transformer.get_feature_names()).sort_values(ascending = False)\n",
    "feature_imp.plot(kind='barh', title='Feature Importances');"
   ]
  },
  {
   "cell_type": "markdown",
   "id": "08e32697",
   "metadata": {},
   "source": [
    "# Conclusion & Recommendation"
   ]
  },
  {
   "cell_type": "markdown",
   "id": "ae5cbf84",
   "metadata": {},
   "source": [
    "Berdasarkan pemodelan yang telah dilakukan, fitur 'Hour' merupakan fitur yang paling berpengaruh terhadap 'Count'. \n",
    "\n",
    "Untuk matriks evaluasi yang digunakan adalah RMSE, MAE, dan MAPE. Nilai RMSE yang dihasilkan setelah hyperparameter tuning adalah 39,12. Sehingga dapat disimpulkan bahwa jika model akan digunakan untuk memperkirakan penyewa sepeda pada rentang nilai sesuai model yang dilatih (maksimal Count 645), maka perkiraan penyewa dapat meleset kurang lebih 39 orang dari total aktualnya. Namun dapat terjadi kesalahan lebih jauh juga karena masih terdapat bias yang terlihat dari visualisasi data prediksi dan aktual. Bias dapat terjadi karena masih kurangnya fitur pada dataset untuk merepresentasikan keadaan dimana orang akan memutuskan untuk menyewa sepeda, seperti lokasi station, adanya event tertentu, dan lain - lain."
   ]
  },
  {
   "cell_type": "markdown",
   "id": "88439914",
   "metadata": {},
   "source": [
    "Rekomendasi yang dapat dilakukan untuk pengembangan model yang lebih baik, seperti :\n",
    "\n",
    " 1. Penambahan fitur yang lebih korelatif dengan target ('Count') seperti adanya event tertentu dan jarak lokasi station dengan lokasi perkantoran, sekolah, atau tempat wisata.\n",
    " \n",
    " 2. Penambahan data. Jika terdapat data lebih banyak dan lebih dari dua tahun, dapat dianalisis lebih baik lagi keterkaitan tahun dengan Count. Dapat juga digunakan model yang lebih kompleks untuk proses pemodelannya untuk dibandingan dan dicari model dengan error paling sedikit.\n",
    " \n",
    " 3. Model yang telah dibangun juga dapat dimanfaatkan untuk pengembangan lainnya. Misalnya pembuatan model untuk memprediksi harga rental atau pembuatan model untuk memprediksi jumlah sepeda yang keluar atau masuk di station tertentu. Jika ada, dapat dianalisis lokasi station strategis, dan dapat menjadi sebuah pertimbangan untuk membuka station baru di tempat yang serupa."
   ]
  },
  {
   "cell_type": "markdown",
   "id": "e57a3564",
   "metadata": {},
   "source": [
    "# Save Model"
   ]
  },
  {
   "cell_type": "code",
   "execution_count": 60,
   "id": "759431f1",
   "metadata": {},
   "outputs": [],
   "source": [
    "# Save model\n",
    "import pickle\n",
    "\n",
    "# final_model = Pipeline([('preprocess', transformer), ('model', XGBRegressor())])\n",
    "# final_model.fit(X_train, y_train)\n",
    "final_model = random_xgb.best_estimator_.fit(X_train, y_train)\n",
    "\n",
    "pickle.dump(final_model, open('Model_XGB_BikeSharing.sav', 'wb'))"
   ]
  },
  {
   "cell_type": "code",
   "execution_count": 61,
   "id": "ae2b1d05",
   "metadata": {},
   "outputs": [],
   "source": [
    "# Load model\n",
    "filename = 'Model_XGB_BikeSharing.sav'\n",
    "loaded_model = pickle.load(open(filename, 'rb'))"
   ]
  },
  {
   "cell_type": "code",
   "execution_count": 62,
   "id": "4a25c30d",
   "metadata": {},
   "outputs": [
    {
     "data": {
      "text/plain": [
       "39.12877918888594"
      ]
     },
     "execution_count": 62,
     "metadata": {},
     "output_type": "execute_result"
    }
   ],
   "source": [
    "np.sqrt(mean_squared_error(y_test, loaded_model.predict(X_test)))"
   ]
  }
 ],
 "metadata": {
  "kernelspec": {
   "display_name": "Python 3 (ipykernel)",
   "language": "python",
   "name": "python3"
  },
  "language_info": {
   "codemirror_mode": {
    "name": "ipython",
    "version": 3
   },
   "file_extension": ".py",
   "mimetype": "text/x-python",
   "name": "python",
   "nbconvert_exporter": "python",
   "pygments_lexer": "ipython3",
   "version": "3.9.10"
  }
 },
 "nbformat": 4,
 "nbformat_minor": 5
}
